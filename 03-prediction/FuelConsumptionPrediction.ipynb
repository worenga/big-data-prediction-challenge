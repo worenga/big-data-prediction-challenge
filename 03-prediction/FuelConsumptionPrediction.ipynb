{
 "cells": [
  {
   "cell_type": "code",
   "execution_count": 1,
   "metadata": {
    "ExecuteTime": {
     "end_time": "2018-12-31T21:14:13.341227Z",
     "start_time": "2018-12-31T21:14:11.811888Z"
    }
   },
   "outputs": [],
   "source": [
    "#Import required libraries\n",
    "\n",
    "from collections import Counter \n",
    "import pandas as pd\n",
    "import numpy as np\n",
    "import matplotlib.pyplot as plt\n",
    "import swifter #allow multiprocessor .apply\n",
    "%matplotlib inline\n",
    "import seaborn as sns\n",
    "import calendar\n",
    "import sys\n",
    "import logging\n",
    "import torch\n",
    "import torch.nn as nn\n",
    "import torch.nn.functional as F\n",
    "from torch.utils.data import Dataset, DataLoader\n",
    "import copy\n",
    "\n",
    "from sklearn.exceptions import DataConversionWarning\n",
    "from sklearn_pandas import DataFrameMapper #https://github.com/scikit-learn-contrib/sklearn-pandas\n",
    "from sklearn.preprocessing import LabelEncoder, Imputer, StandardScaler\n",
    "from pandas.api.types import is_string_dtype, is_numeric_dtype\n",
    "import warnings\n"
   ]
  },
  {
   "cell_type": "code",
   "execution_count": 2,
   "metadata": {
    "ExecuteTime": {
     "end_time": "2018-12-31T21:14:13.745841Z",
     "start_time": "2018-12-31T21:14:13.344015Z"
    }
   },
   "outputs": [
    {
     "name": "stderr",
     "output_type": "stream",
     "text": [
      "/home/bewo/anaconda3/lib/python3.6/site-packages/pandas/io/feather_format.py:112: FutureWarning: `nthreads` argument is deprecated, pass `use_threads` instead\n",
      "  return feather.read_dataframe(path, nthreads=nthreads)\n"
     ]
    }
   ],
   "source": [
    "#Read our Cleaned Data:\n",
    "cleaned_data = pd.read_feather('../data/races.cleaned.feather')"
   ]
  },
  {
   "cell_type": "code",
   "execution_count": 4,
   "metadata": {
    "ExecuteTime": {
     "end_time": "2018-12-31T21:14:13.766704Z",
     "start_time": "2018-12-31T21:14:13.756452Z"
    },
    "scrolled": true
   },
   "outputs": [
    {
     "data": {
      "text/plain": [
       "Index(['id', 'track_id', 'challenger', 'opponent', 'money', 'winner', 'status',\n",
       "       'weather', 'cleaned_race_created', 'cleaned_race_driven',\n",
       "       'cleaned_fuel_consumption', 'forecast_sunny', 'forecast_rainy',\n",
       "       'forecast_thundery', 'forecast_snowy', 'forecasted_wheater',\n",
       "       'forecasted_confidence'],\n",
       "      dtype='object')"
      ]
     },
     "execution_count": 4,
     "metadata": {},
     "output_type": "execute_result"
    }
   ],
   "source": [
    "cleaned_data.columns"
   ]
  },
  {
   "cell_type": "markdown",
   "metadata": {},
   "source": [
    "# Feature Engineering\n",
    "\n",
    "We derive the following features, that are realistic to derive given a new upcoming race:\n",
    "\n",
    "- Hour of Day for Race driven\n",
    "- Month and Year for Race driven\n",
    "- Day of the week for Race driven\n",
    "- How many days in advance was the race created (i.e. how much preparation did the drivers had?)"
   ]
  },
  {
   "cell_type": "code",
   "execution_count": 5,
   "metadata": {
    "ExecuteTime": {
     "end_time": "2018-12-31T21:14:16.003544Z",
     "start_time": "2018-12-31T21:14:13.768520Z"
    }
   },
   "outputs": [],
   "source": [
    "finished_races = cleaned_data['status'] == 'finished'\n",
    "feature_data = cleaned_data.loc[finished_races,['track_id','challenger','opponent','money','forecast_sunny','forecast_rainy','forecast_thundery','forecast_snowy','cleaned_fuel_consumption']]\n",
    "feature_data['hour'] = cleaned_data.loc[finished_races,'cleaned_race_driven'].apply(lambda x: x.hour)\n",
    "feature_data['month'] = cleaned_data.loc[finished_races,'cleaned_race_driven'].apply(lambda x: x.month)\n",
    "feature_data['year'] = cleaned_data.loc[finished_races,'cleaned_race_driven'].apply(lambda x: x.year)\n",
    "feature_data['day_of_week'] = cleaned_data.loc[finished_races,'cleaned_race_driven'].apply(lambda x: x.weekday())\n",
    "feature_data['days_known_ahead'] = cleaned_data.loc[finished_races,'cleaned_race_driven'].sub(cleaned_data.loc[finished_races,'cleaned_race_created'], axis=0) / np.timedelta64(1, 'D')"
   ]
  },
  {
   "cell_type": "code",
   "execution_count": 6,
   "metadata": {
    "ExecuteTime": {
     "end_time": "2018-12-31T21:14:16.021214Z",
     "start_time": "2018-12-31T21:14:16.010150Z"
    }
   },
   "outputs": [],
   "source": [
    "fuel_consumption_pred = feature_data"
   ]
  },
  {
   "cell_type": "code",
   "execution_count": 7,
   "metadata": {
    "ExecuteTime": {
     "end_time": "2018-12-31T21:14:16.077201Z",
     "start_time": "2018-12-31T21:14:16.027455Z"
    }
   },
   "outputs": [
    {
     "data": {
      "text/plain": [
       "track_id                    category\n",
       "challenger                  category\n",
       "opponent                    category\n",
       "money                          int64\n",
       "forecast_sunny                 int64\n",
       "forecast_rainy                 int64\n",
       "forecast_thundery              int64\n",
       "forecast_snowy                 int64\n",
       "cleaned_fuel_consumption     float64\n",
       "hour                        category\n",
       "month                       category\n",
       "year                        category\n",
       "day_of_week                 category\n",
       "days_known_ahead             float64\n",
       "dtype: object"
      ]
     },
     "execution_count": 7,
     "metadata": {},
     "output_type": "execute_result"
    }
   ],
   "source": [
    "for i in ['challenger','opponent','day_of_week','month','hour','year']:\n",
    "    fuel_consumption_pred[i] = fuel_consumption_pred[i].astype('category')\n",
    "fuel_consumption_pred.dtypes"
   ]
  },
  {
   "cell_type": "markdown",
   "metadata": {},
   "source": [
    "Let's define two sets of features we are going to incorporate into our model.\n",
    "We split the input variables into categorical and continous variables.\n"
   ]
  },
  {
   "cell_type": "code",
   "execution_count": 8,
   "metadata": {
    "ExecuteTime": {
     "end_time": "2018-12-31T21:14:16.115174Z",
     "start_time": "2018-12-31T21:14:16.086426Z"
    }
   },
   "outputs": [],
   "source": [
    "categorical_to_use = set(list(fuel_consumption_pred.select_dtypes(include='category').columns)) #categorical variables\n",
    "continuous_to_use = set(list(fuel_consumption_pred.select_dtypes(exclude='category').columns)) # numerical variables\n",
    "\n",
    "for v in categorical_to_use:\n",
    "    #Rewrite categorical values to Ints e.g. (maennlich = 0, weiblich =1, etc.)\n",
    "    fuel_consumption_pred[v] = fuel_consumption_pred[v].astype('category').cat.as_ordered() \n",
    "    #merged[v] = merged[v].cat.codes\n",
    "\n",
    "continuous_to_use.remove('cleaned_fuel_consumption')"
   ]
  },
  {
   "cell_type": "markdown",
   "metadata": {},
   "source": [
    "Our Neural Net will have embeddings for categorical values.\n",
    "\n",
    "See also: \n",
    "  - http://www.fast.ai/2018/04/29/categorical-embeddings/\n",
    "  - https://towardsdatascience.com/deep-learning-4-embedding-layers-f9a02d55ac12\n",
    "  - https://en.wikipedia.org/wiki/Word_embedding\n",
    "\n",
    "The following will compute the size of the embeddings (Note we cap it at 50 and at least use it by count//2 embedding colums."
   ]
  },
  {
   "cell_type": "code",
   "execution_count": 9,
   "metadata": {
    "ExecuteTime": {
     "end_time": "2018-12-31T21:14:16.133294Z",
     "start_time": "2018-12-31T21:14:16.121218Z"
    }
   },
   "outputs": [
    {
     "data": {
      "text/plain": [
       "[(13, 7), (13, 7), (8, 4), (7, 4), (25, 13), (5091, 50), (3636, 50)]"
      ]
     },
     "metadata": {},
     "output_type": "display_data"
    }
   ],
   "source": [
    "cat_sz = [(c, len(fuel_consumption_pred[c].cat.categories)+1) for c in categorical_to_use]\n",
    "emb_szs = [(c, min(50, (c+1)//2)) for _,c in cat_sz]\n",
    "for v in categorical_to_use:\n",
    "    #merged[v] = merged[v].astype('category').cat.as_ordered()\n",
    "    fuel_consumption_pred[v] = fuel_consumption_pred[v].cat.codes\n",
    "display(emb_szs)"
   ]
  },
  {
   "cell_type": "markdown",
   "metadata": {},
   "source": [
    "Now we are going to normalize the continous input data using the StandardScaler"
   ]
  },
  {
   "cell_type": "code",
   "execution_count": 10,
   "metadata": {
    "ExecuteTime": {
     "end_time": "2018-12-31T21:14:16.342067Z",
     "start_time": "2018-12-31T21:14:16.141000Z"
    }
   },
   "outputs": [],
   "source": [
    "#Normalize Data Inputs for neural net using StandardScaler\n",
    "warnings.filterwarnings(action='ignore', category=DataConversionWarning)\n",
    "map_f = [([n],StandardScaler()) for n in fuel_consumption_pred.columns if n in continuous_to_use]\n",
    "mapper = DataFrameMapper(map_f).fit(fuel_consumption_pred)\n",
    "fuel_consumption_pred[mapper.transformed_names_] = mapper.transform(fuel_consumption_pred)"
   ]
  },
  {
   "cell_type": "markdown",
   "metadata": {},
   "source": [
    "Next, we prepare the dataset for cross validation, i.e. we split it into training set and validation set."
   ]
  },
  {
   "cell_type": "code",
   "execution_count": 11,
   "metadata": {
    "ExecuteTime": {
     "end_time": "2018-12-31T21:14:16.442308Z",
     "start_time": "2018-12-31T21:14:16.349037Z"
    }
   },
   "outputs": [
    {
     "name": "stderr",
     "output_type": "stream",
     "text": [
      "/home/bewo/anaconda3/lib/python3.6/site-packages/sklearn/cross_validation.py:41: DeprecationWarning: This module was deprecated in version 0.18 in favor of the model_selection module into which all the refactored classes and functions are moved. Also note that the interface of the new CV iterators are different from that of this module. This module will be removed in 0.20.\n",
      "  \"This module will be removed in 0.20.\", DeprecationWarning)\n"
     ]
    }
   ],
   "source": [
    "from sklearn.cross_validation import train_test_split\n",
    "\n",
    "X_all = fuel_consumption_pred.drop(['cleaned_fuel_consumption'],1)\n",
    "y_all = fuel_consumption_pred['cleaned_fuel_consumption']\n",
    "\n",
    "# Shuffle and split the dataset into training and testing set.\n",
    "X_train, X_test, y_train, y_test = train_test_split(X_all, y_all, \n",
    "                                                    test_size = 0.25,\n",
    "                                                    random_state = 2)\n"
   ]
  },
  {
   "cell_type": "markdown",
   "metadata": {},
   "source": [
    "In the following we will define a helper class to hold our dataset, which helps us handle different datasets later."
   ]
  },
  {
   "cell_type": "code",
   "execution_count": 12,
   "metadata": {
    "ExecuteTime": {
     "end_time": "2018-12-31T21:14:16.461250Z",
     "start_time": "2018-12-31T21:14:16.450101Z"
    }
   },
   "outputs": [],
   "source": [
    "# A class to hold our Datasets\n",
    "class TabularDataset(Dataset):\n",
    "  def __init__(self, xdata, ydata, cat_cols=None):\n",
    "\n",
    "    self.n = xdata.shape[0]\n",
    "    self.y = torch.tensor(ydata.astype(np.double).values) #our target classification vector\n",
    "        \n",
    "    self.cat_cols = cat_cols if cat_cols else []\n",
    "    self.cont_cols = [col for col in xdata.columns\n",
    "                      if col not in self.cat_cols]\n",
    "\n",
    "    if self.cont_cols:\n",
    "      self.cont_X = xdata[self.cont_cols].astype(np.float32).values\n",
    "    else:\n",
    "      self.cont_X = np.zeros((self.n, 1))\n",
    "\n",
    "    if self.cat_cols:\n",
    "      self.cat_X = xdata[cat_cols].astype(np.int64).values\n",
    "    else:\n",
    "      self.cat_X =  np.zeros((self.n, 1))\n",
    "\n",
    "  def __len__(self):\n",
    "    return self.n\n",
    "\n",
    "  def __getitem__(self, idx):\n",
    "    return [self.y[idx], self.cont_X[idx], self.cat_X[idx]]"
   ]
  },
  {
   "cell_type": "code",
   "execution_count": 13,
   "metadata": {
    "ExecuteTime": {
     "end_time": "2018-12-31T21:14:16.508633Z",
     "start_time": "2018-12-31T21:14:16.469474Z"
    }
   },
   "outputs": [],
   "source": [
    "training_dataset = TabularDataset( X_train, y_train , cat_cols=list(categorical_to_use))\n",
    "validation_dataset = TabularDataset( X_test, y_test, cat_cols=list(categorical_to_use))"
   ]
  },
  {
   "cell_type": "markdown",
   "metadata": {
    "ExecuteTime": {
     "end_time": "2018-12-31T22:08:52.730299Z",
     "start_time": "2018-12-31T22:08:52.724187Z"
    }
   },
   "source": [
    "Now, we will define a class that defines the architecture of our feedforward neural net."
   ]
  },
  {
   "cell_type": "code",
   "execution_count": 14,
   "metadata": {
    "ExecuteTime": {
     "end_time": "2018-12-31T21:14:16.532808Z",
     "start_time": "2018-12-31T21:14:16.517903Z"
    }
   },
   "outputs": [],
   "source": [
    "# A class containing the architecture of our neural net\n",
    "# -> Continuous Values -\\\n",
    "#                        -> Linear Layer - - - - -\\\n",
    "#                                                  \\\n",
    "# Categorical Values -> Embedding Layer -> Dropout ->  (Linear Layer -> ReLU -> BatchNorm -> Dropout) -> ReLu-> SoftMax \n",
    "class FeedForwardNN(nn.Module):\n",
    "\n",
    "  def __init__(self, emb_dims, no_of_cont, lin_layer_sizes,\n",
    "               output_dim, emb_dropout, lin_layer_dropouts):\n",
    "\n",
    "    super().__init__()\n",
    "\n",
    "    # Embedding layers\n",
    "    self.emb_layers = nn.ModuleList([nn.Embedding(x, y)\n",
    "                                     for x, y in emb_dims])\n",
    "    \n",
    "    no_of_embs = sum([y for x, y in emb_dims])\n",
    "    self.no_of_embs = no_of_embs\n",
    "    self.no_of_cont = no_of_cont\n",
    "\n",
    "    # Linear Layers\n",
    "    first_lin_layer = nn.Linear(self.no_of_embs + self.no_of_cont,\n",
    "                                lin_layer_sizes[0])\n",
    "    \n",
    "    self.lin_layers =\\\n",
    "     nn.ModuleList([first_lin_layer] +\\\n",
    "          [nn.Linear(lin_layer_sizes[i], lin_layer_sizes[i + 1])\n",
    "           for i in range(len(lin_layer_sizes) - 1)])\n",
    "    \n",
    "    # Output Layer\n",
    "    self.output_layer = nn.Linear(lin_layer_sizes[-1],\n",
    "                                      output_dim)\n",
    "\n",
    "    # Batch Norm Layers\n",
    "    self.first_bn_layer = nn.BatchNorm1d(self.no_of_cont)\n",
    "    self.bn_layers = nn.ModuleList([nn.BatchNorm1d(size)\n",
    "                                    for size in lin_layer_sizes])\n",
    "\n",
    "    # Dropout Layers\n",
    "    self.emb_dropout_layer = nn.Dropout(emb_dropout)\n",
    "    self.dropout_layers = nn.ModuleList([nn.Dropout(size)\n",
    "                                  for size in lin_layer_dropouts])\n",
    "\n",
    "  def forward(self, cont_data, cat_data):\n",
    "\n",
    "    if self.no_of_embs != 0:\n",
    "      x = [emb_layer(cat_data[:, i])\n",
    "           for i,emb_layer in enumerate(self.emb_layers)]\n",
    "      x = torch.cat(x, 1)\n",
    "      x = self.emb_dropout_layer(x)\n",
    "\n",
    "    if self.no_of_cont != 0:\n",
    "      normalized_cont_data = self.first_bn_layer(cont_data)\n",
    "\n",
    "      if self.no_of_embs != 0:\n",
    "        x = torch.cat([x, normalized_cont_data], 1) \n",
    "      else:\n",
    "        x = normalized_cont_data\n",
    "\n",
    "    for lin_layer, dropout_layer, bn_layer in\\\n",
    "        zip(self.lin_layers, self.dropout_layers, self.bn_layers):\n",
    "      \n",
    "      x = F.relu(lin_layer(x))\n",
    "      x = bn_layer(x)\n",
    "      x = dropout_layer(x)\n",
    "    \n",
    "    x = self.output_layer(x)\n",
    "    #x = F.softmax(x, dim=-1)\n",
    "    return x\n",
    "\n",
    "  def freezeFirst(self,n,unfreeze=False):\n",
    "    if n >= 0:\n",
    "        for i,emb_layer in enumerate(self.emb_layers):\n",
    "            emb_layer.requires_grad = unfreeze\n",
    "        self.first_bn_layer.requires_grad = unfreeze\n",
    "        self.emb_dropout_layer.requires_grad = unfreeze\n",
    "    \n",
    "    for i,(lin_layer, dropout_layer, bn_layer) in\\\n",
    "        enumerate(zip(self.lin_layers, self.dropout_layers, self.bn_layers)):\n",
    "        if i+1 <= n:\n",
    "            lin_layer.requires_grad = unfreeze\n",
    "            dropout_layer.requires_grad = unfreeze\n",
    "            bn_layer.requires_grad = unfreeze"
   ]
  },
  {
   "cell_type": "markdown",
   "metadata": {},
   "source": [
    "# Training the model"
   ]
  },
  {
   "cell_type": "code",
   "execution_count": 15,
   "metadata": {
    "ExecuteTime": {
     "end_time": "2018-12-31T21:14:16.539688Z",
     "start_time": "2018-12-31T21:14:16.535685Z"
    }
   },
   "outputs": [],
   "source": [
    "BATCH_SIZE = 512 #How many datapoints do we adjust the model at once? "
   ]
  },
  {
   "cell_type": "code",
   "execution_count": 16,
   "metadata": {
    "ExecuteTime": {
     "end_time": "2018-12-31T21:14:16.547925Z",
     "start_time": "2018-12-31T21:14:16.542217Z"
    }
   },
   "outputs": [],
   "source": [
    "dataloader = DataLoader(training_dataset, BATCH_SIZE, num_workers=0, shuffle=True)\n",
    "vdataloader = DataLoader(validation_dataset, BATCH_SIZE, shuffle=False, num_workers=0) # no sampling for testing"
   ]
  },
  {
   "cell_type": "code",
   "execution_count": 17,
   "metadata": {
    "ExecuteTime": {
     "end_time": "2018-12-31T21:14:16.562797Z",
     "start_time": "2018-12-31T21:14:16.553345Z"
    }
   },
   "outputs": [],
   "source": [
    "#USE GPU for training if available (much faster train times)\n",
    "device = torch.device(\"cuda:0\" if torch.cuda.is_available() else \"cpu\")"
   ]
  },
  {
   "cell_type": "code",
   "execution_count": 24,
   "metadata": {
    "ExecuteTime": {
     "end_time": "2018-12-31T21:42:53.459179Z",
     "start_time": "2018-12-31T21:42:53.369779Z"
    }
   },
   "outputs": [],
   "source": [
    "NO_OF_EPOCS = 25 # How many iterations through training data?\n",
    "FREEZE_AFTER = NO_OF_EPOCS//3 #Fine Tune last layers (firsy layers frozen)\n",
    "\n",
    "lin_layers = [1024,2048,512,128] #first layer is for cont variables only!\n",
    "dropout_p = [2.0/x for x in lin_layers] # 2% for each dropout each layer\n",
    "model = FeedForwardNN(emb_szs, no_of_cont=len(continuous_to_use), lin_layer_sizes=lin_layers,\n",
    "                          output_dim=1, emb_dropout=0.04,\n",
    "                          lin_layer_dropouts=dropout_p).to(device)\n",
    "\n",
    "#criterion = nn.NLLLoss()\n",
    "criterion = nn.MSELoss()\n",
    "#criterion = nn.CrossEntropyLoss()\n",
    "\n"
   ]
  },
  {
   "cell_type": "code",
   "execution_count": 39,
   "metadata": {
    "ExecuteTime": {
     "end_time": "2018-12-31T22:17:20.731608Z",
     "start_time": "2018-12-31T22:17:20.728362Z"
    }
   },
   "outputs": [],
   "source": [
    "losses = {'train': [], 'val': []}\n",
    "acc = {'train': [], 'val': []}\n",
    "best_model = model\n",
    "best_loss = np.Infinity"
   ]
  },
  {
   "cell_type": "code",
   "execution_count": 40,
   "metadata": {
    "ExecuteTime": {
     "end_time": "2018-12-31T22:42:31.408249Z",
     "start_time": "2018-12-31T22:17:22.168775Z"
    }
   },
   "outputs": [
    {
     "name": "stdout",
     "output_type": "stream",
     "text": [
      "Epoch 0, New Best Model found: Acc 121.7546\n",
      "Epoch 4, New Best Model found: Acc 77.7492\n",
      "Epoch 9, New Best Model found: Acc 72.8253\n",
      "Best val Acc: 72.825346\n"
     ]
    }
   ],
   "source": [
    "optimizer = torch.optim.Adam(model.parameters(), lr=1e-2)\n",
    "\n",
    "logger = logging.getLogger()\n",
    "logger.handlers = [] #idempotence for jupyter\n",
    "hdlr = logging.FileHandler('./training-fuel.log')\n",
    "formatter = logging.Formatter('%(asctime)s %(levelname)s %(message)s')\n",
    "hdlr.setFormatter(formatter)\n",
    "hdlr.setLevel(logging.DEBUG)\n",
    "ch = logging.StreamHandler(stream=sys.stdout)\n",
    "ch.setLevel(logging.INFO)\n",
    "logger.addHandler(hdlr)\n",
    "logger.addHandler(ch) \n",
    "logger.setLevel(logging.DEBUG)\n",
    "logger.debug(\"Training started...\")\n",
    "\n",
    "#unfreeze all layers\n",
    "model.freezeFirst(len(lin_layers),unfreeze=True)\n",
    "\n",
    "dset_loaders = {\n",
    "    'train':dataloader,\n",
    "    'val':vdataloader\n",
    "}\n",
    "dataset_sizes = {'train':float(len(training_dataset)),\n",
    "                'val': float(len(validation_dataset))\n",
    "                }\n",
    "\n",
    "for epoch in range(NO_OF_EPOCS):\n",
    "    logger.debug('Epoch {}/{}'.format(epoch, NO_OF_EPOCS))\n",
    "    logger.debug('-' * 10)\n",
    "    if epoch == FREEZE_AFTER:\n",
    "        model.freezeFirst(len(lin_layers)-3,unfreeze=False) \n",
    "    \n",
    "    # Each epoch has a training and validation phase\n",
    "    for phase in ['train', 'val']:\n",
    "        if phase == 'train':\n",
    "            model.train(True)  # Set model to training mode\n",
    "        else:\n",
    "            model.train(False)  # Set model to evaluate mode\n",
    "\n",
    "        running_loss = 0.0\n",
    "        running_corrects = 0\n",
    "        wrong_preds = Counter()\n",
    "        correct_preds = Counter()\n",
    "        \n",
    "        # Iterate over data batches:\n",
    "        for y, cont_x, cat_x in dset_loaders[phase]:\n",
    "            cat_x = cat_x.to(device)\n",
    "            cont_x = cont_x.to(device)\n",
    "            y  = y.to(device)\n",
    "            \n",
    "\n",
    "            # zero the parameter gradients\n",
    "            optimizer.zero_grad()\n",
    "\n",
    "            # forward\n",
    "            outputs = model(cont_x, cat_x)\n",
    "            loss = criterion(outputs.squeeze(), y.float())\n",
    "\n",
    "            # backward propagation + optimizer call only if in training phase\n",
    "            if phase == 'train':\n",
    "                loss.backward()\n",
    "                optimizer.step()\n",
    "                \n",
    "            # statistics\n",
    "            running_loss += loss.item() * cont_x.size(0)\n",
    "\n",
    "        epoch_loss = running_loss / dataset_sizes[phase]\n",
    "        #epoch_acc = running_corrects.double() / dataset_sizes[phase]\n",
    "        losses[phase].append(epoch_loss)\n",
    "        #acc[phase].append(epoch_acc)\n",
    "\n",
    "        logger.debug('{} Loss: {:.4f}'.format(\n",
    "            phase, epoch_loss))\n",
    "        #logger.debug('  Correct: {}'.format(correct_preds.most_common()))\n",
    "        #logger.debug('  Wrong: {}'.format(wrong_preds.most_common()))\n",
    "        \n",
    "        \n",
    "        # deep copy the model\n",
    "        if phase == 'val' and epoch_loss < best_loss:\n",
    "            logger.info(\"Epoch {}, New Best Model found: Acc {:.4f}\".format(epoch,epoch_loss))\n",
    "            best_loss = epoch_loss\n",
    "            best_model = copy.deepcopy(model)\n",
    "\n",
    "\n",
    "print('Best val Acc: {:4f}'.format(best_loss))"
   ]
  },
  {
   "cell_type": "code",
   "execution_count": 42,
   "metadata": {
    "ExecuteTime": {
     "end_time": "2018-12-31T22:42:51.436816Z",
     "start_time": "2018-12-31T22:42:51.429255Z"
    }
   },
   "outputs": [
    {
     "data": {
      "text/plain": [
       "0.01666753275846172"
      ]
     },
     "execution_count": 42,
     "metadata": {},
     "output_type": "execute_result"
    }
   ],
   "source": [
    "#What is the expected errror of our model?\n",
    "np.sqrt(72.825346)/512"
   ]
  },
  {
   "cell_type": "code",
   "execution_count": 43,
   "metadata": {
    "ExecuteTime": {
     "end_time": "2018-12-31T22:43:00.083109Z",
     "start_time": "2018-12-31T22:43:00.057990Z"
    }
   },
   "outputs": [
    {
     "data": {
      "text/plain": [
       "count    162395.000000\n",
       "mean          7.908929\n",
       "std          16.809613\n",
       "min           0.090000\n",
       "25%           1.755000\n",
       "50%           4.350000\n",
       "75%           4.425000\n",
       "max         111.055000\n",
       "Name: cleaned_fuel_consumption, dtype: float64"
      ]
     },
     "execution_count": 43,
     "metadata": {},
     "output_type": "execute_result"
    }
   ],
   "source": [
    "cleaned_data.cleaned_fuel_consumption.describe()"
   ]
  },
  {
   "cell_type": "markdown",
   "metadata": {
    "ExecuteTime": {
     "end_time": "2018-12-31T22:12:37.410251Z",
     "start_time": "2018-12-31T22:12:37.406579Z"
    }
   },
   "source": [
    "That means our model has a classification error of +/-0.017 liters on the validation data set."
   ]
  },
  {
   "cell_type": "code",
   "execution_count": 51,
   "metadata": {
    "ExecuteTime": {
     "end_time": "2018-12-31T22:44:12.115079Z",
     "start_time": "2018-12-31T22:44:11.478322Z"
    }
   },
   "outputs": [
    {
     "data": {
      "image/png": "[encoded data removed]",
      "text/plain": [
       "<Figure size 1080x360 with 1 Axes>"
      ]
     },
     "metadata": {},
     "output_type": "display_data"
    }
   ],
   "source": [
    "%matplotlib inline\n",
    "fig, ax = plt.subplots(1,1)\n",
    "fig.set_size_inches(15,5)\n",
    "for part in losses.keys():\n",
    "    ax.plot(losses[part],label='loss_'+part)\n",
    "    ax.legend()\n",
    "    ax.set_yscale('log')"
   ]
  },
  {
   "cell_type": "markdown",
   "metadata": {},
   "source": [
    "We see a lot of overfitting after Epoch 9..."
   ]
  },
  {
   "cell_type": "code",
   "execution_count": 52,
   "metadata": {
    "ExecuteTime": {
     "end_time": "2018-12-31T22:44:47.424501Z",
     "start_time": "2018-12-31T22:44:47.379576Z"
    }
   },
   "outputs": [
    {
     "name": "stderr",
     "output_type": "stream",
     "text": [
      "/home/bewo/anaconda3/lib/python3.6/site-packages/torch/serialization.py:241: UserWarning: Couldn't retrieve source code for container of type FeedForwardNN. It won't be checked for correctness upon loading.\n",
      "  \"type \" + obj.__name__ + \". It won't be checked \"\n"
     ]
    }
   ],
   "source": [
    "#save our model\n",
    "#this enables us to reuse the trained model later-on using torch.load()\n",
    "torch.save(best_model, 'fuel-prediction-prediction.torch')"
   ]
  },
  {
   "cell_type": "code",
   "execution_count": null,
   "metadata": {},
   "outputs": [],
   "source": []
  }
 ],
 "metadata": {
  "kernelspec": {
   "display_name": "Python 3",
   "language": "python",
   "name": "python3"
  },
  "language_info": {
   "codemirror_mode": {
    "name": "ipython",
    "version": 3
   },
   "file_extension": ".py",
   "mimetype": "text/x-python",
   "name": "python",
   "nbconvert_exporter": "python",
   "pygments_lexer": "ipython3",
   "version": "3.6.5"
  }
 },
 "nbformat": 4,
 "nbformat_minor": 2
}
