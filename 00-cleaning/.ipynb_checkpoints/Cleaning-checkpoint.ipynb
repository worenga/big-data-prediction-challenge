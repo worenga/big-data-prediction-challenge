{
 "cells": [
  {
   "cell_type": "markdown",
   "metadata": {},
   "source": [
    "# Introduction\n",
    "\n",
    "Before we can start working with the data, we must ensure the data is in a processable format.\n",
    "To this end we will load the data, inspect and parse it, augment or retrofit values as much as possible and drop incomplete records\n"
   ]
  },
  {
   "cell_type": "code",
   "execution_count": 26,
   "metadata": {
    "ExecuteTime": {
     "end_time": "2018-12-30T18:54:20.792457Z",
     "start_time": "2018-12-30T18:54:20.776322Z"
    }
   },
   "outputs": [],
   "source": [
    "#Load essential data processing libraries...\n",
    "import pandas as pd\n",
    "import numpy as np\n",
    "import matplotlib.pyplot as plt\n",
    "#pip install swifter\n",
    "import swifter #allow multiprocessor .apply\n",
    "%matplotlib inline"
   ]
  },
  {
   "cell_type": "code",
   "execution_count": 27,
   "metadata": {
    "ExecuteTime": {
     "end_time": "2018-12-30T18:54:21.648714Z",
     "start_time": "2018-12-30T18:54:21.306595Z"
    }
   },
   "outputs": [],
   "source": [
    "#We start by loading the raw data into a pandas dataframe\n",
    "raw_data = pd.read_csv('../data/races.csv.gz',sep=';')"
   ]
  },
  {
   "cell_type": "code",
   "execution_count": 28,
   "metadata": {
    "ExecuteTime": {
     "end_time": "2018-12-30T18:54:21.902508Z",
     "start_time": "2018-12-30T18:54:21.832157Z"
    }
   },
   "outputs": [
    {
     "data": {
      "text/plain": [
       "id                  166609\n",
       "race_created        166609\n",
       "race_driven         166609\n",
       "track_id            166609\n",
       "challenger          166609\n",
       "opponent            166609\n",
       "money               166609\n",
       "fuel_consumption    166609\n",
       "winner              166609\n",
       "status              166609\n",
       "forecast            166609\n",
       "weather             109099\n",
       "dtype: int64"
      ]
     },
     "execution_count": 28,
     "metadata": {},
     "output_type": "execute_result"
    }
   ],
   "source": [
    "orig_len = len(raw_data)\n",
    "raw_data.count()"
   ]
  },
  {
   "cell_type": "code",
   "execution_count": 29,
   "metadata": {
    "ExecuteTime": {
     "end_time": "2018-12-30T18:54:22.348972Z",
     "start_time": "2018-12-30T18:54:22.335934Z"
    }
   },
   "outputs": [
    {
     "data": {
      "text/plain": [
       "True"
      ]
     },
     "execution_count": 29,
     "metadata": {},
     "output_type": "execute_result"
    }
   ],
   "source": [
    "raw_data['id'].is_unique"
   ]
  },
  {
   "cell_type": "markdown",
   "metadata": {},
   "source": [
    "We know that the id is unique across our dataset, so lets exchange it for the new index."
   ]
  },
  {
   "cell_type": "code",
   "execution_count": 30,
   "metadata": {
    "ExecuteTime": {
     "end_time": "2018-12-30T18:54:23.391225Z",
     "start_time": "2018-12-30T18:54:23.385242Z"
    }
   },
   "outputs": [],
   "source": [
    "raw_data.set_index('id', inplace=True)"
   ]
  },
  {
   "cell_type": "markdown",
   "metadata": {},
   "source": [
    "Let's inspect the data types pandas came up with..."
   ]
  },
  {
   "cell_type": "code",
   "execution_count": 31,
   "metadata": {
    "ExecuteTime": {
     "end_time": "2018-12-30T18:54:24.394727Z",
     "start_time": "2018-12-30T18:54:24.390418Z"
    }
   },
   "outputs": [
    {
     "data": {
      "text/plain": [
       "race_created        object\n",
       "race_driven         object\n",
       "track_id             int64\n",
       "challenger           int64\n",
       "opponent             int64\n",
       "money                int64\n",
       "fuel_consumption    object\n",
       "winner               int64\n",
       "status              object\n",
       "forecast            object\n",
       "weather             object\n",
       "dtype: object"
      ]
     },
     "execution_count": 31,
     "metadata": {},
     "output_type": "execute_result"
    }
   ],
   "source": [
    "raw_data.dtypes"
   ]
  },
  {
   "cell_type": "markdown",
   "metadata": {},
   "source": [
    "Let's start to look at the fields individually now fields, we begin top down... "
   ]
  },
  {
   "cell_type": "markdown",
   "metadata": {},
   "source": [
    "## Cleaning: `race_created` and `race_driven`"
   ]
  },
  {
   "cell_type": "code",
   "execution_count": 32,
   "metadata": {
    "ExecuteTime": {
     "end_time": "2018-12-30T18:54:35.908264Z",
     "start_time": "2018-12-30T18:54:25.147451Z"
    }
   },
   "outputs": [],
   "source": [
    "# Let's parse the string representation as an actual datetime object\n",
    "raw_data['cleaned_race_created'] = pd.to_datetime(raw_data.race_created, errors='coerce')"
   ]
  },
  {
   "cell_type": "code",
   "execution_count": 33,
   "metadata": {
    "ExecuteTime": {
     "end_time": "2018-12-30T18:54:35.915625Z",
     "start_time": "2018-12-30T18:54:35.909566Z"
    }
   },
   "outputs": [
    {
     "data": {
      "text/plain": [
       "0"
      ]
     },
     "execution_count": 33,
     "metadata": {},
     "output_type": "execute_result"
    }
   ],
   "source": [
    "#Did we encounter any nonparseable dates?\n",
    "np.isnat(raw_data.cleaned_race_created).sum()"
   ]
  },
  {
   "cell_type": "markdown",
   "metadata": {},
   "source": [
    "No, perfect! Let's do the same for `race_driven`:"
   ]
  },
  {
   "cell_type": "code",
   "execution_count": 34,
   "metadata": {
    "ExecuteTime": {
     "end_time": "2018-12-30T18:54:55.823380Z",
     "start_time": "2018-12-30T18:54:41.640571Z"
    },
    "scrolled": true
   },
   "outputs": [],
   "source": [
    "raw_data['cleaned_race_driven'] = pd.to_datetime(raw_data.race_driven, errors='coerce')"
   ]
  },
  {
   "cell_type": "code",
   "execution_count": 35,
   "metadata": {
    "ExecuteTime": {
     "end_time": "2018-12-30T18:54:55.836200Z",
     "start_time": "2018-12-30T18:54:55.825885Z"
    }
   },
   "outputs": [
    {
     "data": {
      "text/plain": [
       "57510"
      ]
     },
     "execution_count": 35,
     "metadata": {},
     "output_type": "execute_result"
    }
   ],
   "source": [
    "np.isnat(raw_data.cleaned_race_driven).sum()"
   ]
  },
  {
   "cell_type": "markdown",
   "metadata": {},
   "source": [
    "Unfortunately, here we had some erros parsing some values.\n",
    "Let's take a look at some of the values, to understand what is going on"
   ]
  },
  {
   "cell_type": "code",
   "execution_count": 36,
   "metadata": {
    "ExecuteTime": {
     "end_time": "2018-12-30T18:55:05.441574Z",
     "start_time": "2018-12-30T18:55:05.429016Z"
    }
   },
   "outputs": [
    {
     "data": {
      "text/plain": [
       "id\n",
       "99301        29.12.2012 06:22\n",
       "44063        18.07.2012 00:19\n",
       "96537        20.12.2012 19:03\n",
       "102594       08.01.2013 15:58\n",
       "86226        03.12.2012 18:50\n",
       "146043       30.10.2013 22:18\n",
       "76312     0000-00-00 00:00:00\n",
       "120823       11.04.2013 08:27\n",
       "11763        28.03.2012 20:26\n",
       "11201        24.03.2012 11:08\n",
       "44933        21.07.2012 14:46\n",
       "156833       05.07.2014 14:48\n",
       "118432       31.03.2013 03:59\n",
       "142093       22.09.2013 16:56\n",
       "161821       12.12.2014 19:14\n",
       "120760       11.04.2013 17:31\n",
       "131050       05.06.2013 15:28\n",
       "123185       24.04.2013 00:04\n",
       "141325       15.09.2013 13:13\n",
       "159589    0000-00-00 00:00:00\n",
       "Name: race_driven, dtype: object"
      ]
     },
     "execution_count": 36,
     "metadata": {},
     "output_type": "execute_result"
    }
   ],
   "source": [
    "#Take a sample of 20 for race_driven and show it as a table\n",
    "raw_data.sample(n=20)['race_driven'].head(n=20)"
   ]
  },
  {
   "cell_type": "markdown",
   "metadata": {
    "ExecuteTime": {
     "end_time": "2018-12-30T17:14:36.748793Z",
     "start_time": "2018-12-30T17:14:22.736306Z"
    }
   },
   "source": [
    "It seems a lot of them are just simply: `0000-00-00 00:00:00`"
   ]
  },
  {
   "cell_type": "code",
   "execution_count": 37,
   "metadata": {
    "ExecuteTime": {
     "end_time": "2018-12-30T18:55:13.210102Z",
     "start_time": "2018-12-30T18:55:13.193955Z"
    }
   },
   "outputs": [
    {
     "data": {
      "text/plain": [
       "57510"
      ]
     },
     "execution_count": 37,
     "metadata": {},
     "output_type": "execute_result"
    }
   ],
   "source": [
    "zero_values_racedriven = raw_data['race_driven'] == '0000-00-00 00:00:00'\n",
    "zero_values_racedriven.sum()"
   ]
  },
  {
   "cell_type": "markdown",
   "metadata": {},
   "source": [
    "As a matter of fact, all of the non-parseable dates seem to have this `0000-00-00 00:00:00` format."
   ]
  },
  {
   "cell_type": "code",
   "execution_count": 38,
   "metadata": {
    "ExecuteTime": {
     "end_time": "2018-12-30T18:55:16.302272Z",
     "start_time": "2018-12-30T18:55:16.289113Z"
    }
   },
   "outputs": [
    {
     "data": {
      "text/plain": [
       "retired     43224\n",
       "declined    11392\n",
       "waiting      2894\n",
       "Name: status, dtype: int64"
      ]
     },
     "execution_count": 38,
     "metadata": {},
     "output_type": "execute_result"
    }
   ],
   "source": [
    "raw_data[zero_values_racedriven]['status'].value_counts()"
   ]
  },
  {
   "cell_type": "markdown",
   "metadata": {},
   "source": [
    "Looking at the `status` field, we can see that those are races that were not `finished`. Let's check if we had any of those states if a race was driven i.e. not `0000-00-00 00:00:00`..."
   ]
  },
  {
   "cell_type": "code",
   "execution_count": 39,
   "metadata": {
    "ExecuteTime": {
     "end_time": "2018-12-30T18:55:19.784613Z",
     "start_time": "2018-12-30T18:55:19.763103Z"
    }
   },
   "outputs": [
    {
     "data": {
      "text/plain": [
       "finished    109099\n",
       "Name: status, dtype: int64"
      ]
     },
     "execution_count": 39,
     "metadata": {},
     "output_type": "execute_result"
    }
   ],
   "source": [
    "raw_data[~(zero_values_racedriven)]['status'].value_counts()"
   ]
  },
  {
   "cell_type": "markdown",
   "metadata": {},
   "source": [
    "We only find status finished here... So it is probably fine to keep this in the data as Not a time (NaT) for now since those races were not actually driven/finished."
   ]
  },
  {
   "cell_type": "code",
   "execution_count": 40,
   "metadata": {
    "ExecuteTime": {
     "end_time": "2018-12-30T18:55:24.235836Z",
     "start_time": "2018-12-30T18:55:24.208086Z"
    }
   },
   "outputs": [
    {
     "data": {
      "text/plain": [
       "finished    4206\n",
       "Name: status, dtype: int64"
      ]
     },
     "execution_count": 40,
     "metadata": {},
     "output_type": "execute_result"
    }
   ],
   "source": [
    "#Are there any races where driven > created?\n",
    "planned_before_driven =  raw_data['cleaned_race_driven'] < raw_data['cleaned_race_created']\n",
    "raw_data[planned_before_driven]['status'].value_counts()"
   ]
  },
  {
   "cell_type": "markdown",
   "metadata": {},
   "source": [
    "Those entries seems to be faulty. How can a race be planned/created after it has been driven?\n",
    "Let's quantify and remove them from our resulting data set to be sure we do not get invalid data."
   ]
  },
  {
   "cell_type": "code",
   "execution_count": 41,
   "metadata": {
    "ExecuteTime": {
     "end_time": "2018-12-30T18:55:26.876754Z",
     "start_time": "2018-12-30T18:55:26.864386Z"
    }
   },
   "outputs": [
    {
     "name": "stdout",
     "output_type": "stream",
     "text": [
      "2.52% affected \n"
     ]
    }
   ],
   "source": [
    "#How many percent are affected?\n",
    "print(\"%.2f%% affected \" % (100*len(raw_data[planned_before_driven])/len(raw_data)))"
   ]
  },
  {
   "cell_type": "code",
   "execution_count": 44,
   "metadata": {
    "ExecuteTime": {
     "end_time": "2018-12-30T18:56:32.229433Z",
     "start_time": "2018-12-30T18:56:32.210881Z"
    }
   },
   "outputs": [],
   "source": [
    "raw_data.drop(index=raw_data[planned_before_driven].index,inplace=True)"
   ]
  },
  {
   "cell_type": "markdown",
   "metadata": {},
   "source": [
    "Let's have a look at the min and max time observed for both date values..."
   ]
  },
  {
   "cell_type": "code",
   "execution_count": 47,
   "metadata": {
    "ExecuteTime": {
     "end_time": "2018-12-30T18:57:03.551083Z",
     "start_time": "2018-12-30T18:57:03.530015Z"
    }
   },
   "outputs": [
    {
     "data": {
      "text/plain": [
       "(Timestamp('2012-01-04 00:07:00'), Timestamp('2017-12-06 17:48:00'))"
      ]
     },
     "execution_count": 47,
     "metadata": {},
     "output_type": "execute_result"
    }
   ],
   "source": [
    "raw_data['cleaned_race_driven'].min(),raw_data['cleaned_race_driven'].max()"
   ]
  },
  {
   "cell_type": "code",
   "execution_count": 48,
   "metadata": {
    "ExecuteTime": {
     "end_time": "2018-12-30T18:57:04.049950Z",
     "start_time": "2018-12-30T18:57:04.027263Z"
    }
   },
   "outputs": [
    {
     "data": {
      "text/plain": [
       "(Timestamp('2012-01-04 00:00:00'), Timestamp('2017-12-06 00:00:00'))"
      ]
     },
     "execution_count": 48,
     "metadata": {},
     "output_type": "execute_result"
    }
   ],
   "source": [
    "raw_data['cleaned_race_created'].min(),raw_data['cleaned_race_created'].max()"
   ]
  },
  {
   "cell_type": "markdown",
   "metadata": {},
   "source": [
    "Those values seem sensible, and we do not seem to have any outliers."
   ]
  },
  {
   "cell_type": "code",
   "execution_count": 50,
   "metadata": {
    "ExecuteTime": {
     "end_time": "2018-12-30T18:58:07.142887Z",
     "start_time": "2018-12-30T18:58:07.133476Z"
    }
   },
   "outputs": [],
   "source": [
    "raw_data.drop(columns=['race_driven','race_created'],inplace=True)"
   ]
  },
  {
   "cell_type": "code",
   "execution_count": 51,
   "metadata": {
    "ExecuteTime": {
     "end_time": "2018-12-30T18:58:07.606972Z",
     "start_time": "2018-12-30T18:58:07.599439Z"
    }
   },
   "outputs": [
    {
     "data": {
      "text/plain": [
       "track_id                         int64\n",
       "challenger                       int64\n",
       "opponent                         int64\n",
       "money                            int64\n",
       "fuel_consumption                object\n",
       "winner                           int64\n",
       "status                          object\n",
       "forecast                        object\n",
       "weather                         object\n",
       "cleaned_race_created    datetime64[ns]\n",
       "cleaned_race_driven     datetime64[ns]\n",
       "dtype: object"
      ]
     },
     "execution_count": 51,
     "metadata": {},
     "output_type": "execute_result"
    }
   ],
   "source": [
    "raw_data.dtypes"
   ]
  },
  {
   "cell_type": "markdown",
   "metadata": {},
   "source": [
    "## Cleaning `track_id`"
   ]
  },
  {
   "cell_type": "code",
   "execution_count": 52,
   "metadata": {
    "ExecuteTime": {
     "end_time": "2018-12-30T18:59:02.836289Z",
     "start_time": "2018-12-30T18:59:02.683463Z"
    }
   },
   "outputs": [
    {
     "data": {
      "text/plain": [
       "12    102392\n",
       "3      37266\n",
       "5      10277\n",
       "8       2147\n",
       "7       2113\n",
       "4       1964\n",
       "10      1768\n",
       "13      1445\n",
       "9        875\n",
       "6        784\n",
       "11       760\n",
       "14       612\n",
       "Name: track_id, dtype: int64"
      ]
     },
     "execution_count": 52,
     "metadata": {},
     "output_type": "execute_result"
    },
    {
     "data": {
      "image/png": "[encoded data removed]",
      "text/plain": [
       "<Figure size 432x288 with 1 Axes>"
      ]
     },
     "metadata": {},
     "output_type": "display_data"
    }
   ],
   "source": [
    "#Lets look if we need to clean track_id at all?\n",
    "raw_data['track_id'].hist()\n",
    "raw_data['track_id'].value_counts()"
   ]
  },
  {
   "cell_type": "markdown",
   "metadata": {},
   "source": [
    "While some tracks (12) are much more popular than others, we do not seem to have a data problem. However, there is no point in using an integer type as the track id is clearly a categorical feature."
   ]
  },
  {
   "cell_type": "code",
   "execution_count": 53,
   "metadata": {
    "ExecuteTime": {
     "end_time": "2018-12-30T19:00:44.675317Z",
     "start_time": "2018-12-30T19:00:44.670625Z"
    }
   },
   "outputs": [],
   "source": [
    "raw_data['track_id'] = raw_data['track_id'].astype('category')"
   ]
  },
  {
   "cell_type": "markdown",
   "metadata": {},
   "source": [
    "## Cleaning `fuel_consumption`"
   ]
  },
  {
   "cell_type": "code",
   "execution_count": 54,
   "metadata": {
    "ExecuteTime": {
     "end_time": "2018-12-30T19:01:06.405941Z",
     "start_time": "2018-12-30T19:01:06.380741Z"
    }
   },
   "outputs": [
    {
     "data": {
      "text/plain": [
       "id\n",
       "138107     81.375\n",
       "131517      1.425\n",
       "100453      0.375\n",
       "128037      5.685\n",
       "16938     02. Jul\n",
       "20530       0.616\n",
       "9995       Jan 89\n",
       "161424     Apr 35\n",
       "135883    01. Feb\n",
       "153730     44.865\n",
       "6534        1.335\n",
       "153709     Apr 35\n",
       "67756        0.78\n",
       "166513     Mrz 18\n",
       "166181      0.525\n",
       "14180      Apr 38\n",
       "166117      2.295\n",
       "27335      Jul 59\n",
       "105730     Apr 92\n",
       "49442       4.425\n",
       "Name: fuel_consumption, dtype: object"
      ]
     },
     "execution_count": 54,
     "metadata": {},
     "output_type": "execute_result"
    }
   ],
   "source": [
    "raw_data.sample(n=20)['fuel_consumption'].head(n=20)"
   ]
  },
  {
   "cell_type": "markdown",
   "metadata": {},
   "source": [
    "It seems some values here are dates without years, while other colums seems to be floating point numbers."
   ]
  },
  {
   "cell_type": "code",
   "execution_count": 63,
   "metadata": {
    "ExecuteTime": {
     "end_time": "2018-12-30T19:03:09.480446Z",
     "start_time": "2018-12-30T19:03:09.412405Z"
    }
   },
   "outputs": [
    {
     "name": "stdout",
     "output_type": "stream",
     "text": [
      "35.27% affected\n"
     ]
    }
   ],
   "source": [
    "#Let's see how much we can parse. Maybe, this is not affecting many records in the dataset...\n",
    "raw_data['cleaned_fuel_consumption'] = pd.to_numeric(raw_data['fuel_consumption'],errors='coerce')\n",
    "#How many % records are affected?\n",
    "bad_fuel_consumption = raw_data['cleaned_fuel_consumption'].isna()\n",
    "print(\"%.2f%% affected\" % (100*bad_fuel_consumption.sum()/len(raw_data['cleaned_fuel_consumption'])))"
   ]
  },
  {
   "cell_type": "code",
   "execution_count": 66,
   "metadata": {
    "ExecuteTime": {
     "end_time": "2018-12-30T19:03:46.326863Z",
     "start_time": "2018-12-30T19:03:46.313444Z"
    }
   },
   "outputs": [
    {
     "data": {
      "text/plain": [
       "finished    34567\n",
       "retired     18603\n",
       "declined     3402\n",
       "waiting       712\n",
       "Name: status, dtype: int64"
      ]
     },
     "execution_count": 66,
     "metadata": {},
     "output_type": "execute_result"
    }
   ],
   "source": [
    "#That is over 1/3 of our entire data set. We decide that this amount is too big to simply discard.\n",
    "#Is this problem seems to affect only some race states as before?\n",
    "raw_data[bad_fuel_consumption]['status'].value_counts()"
   ]
  },
  {
   "cell_type": "code",
   "execution_count": 68,
   "metadata": {
    "ExecuteTime": {
     "end_time": "2018-12-30T19:04:02.419929Z",
     "start_time": "2018-12-30T19:04:02.389654Z"
    }
   },
   "outputs": [
    {
     "data": {
      "text/plain": [
       "Apr 35     24717\n",
       "04. Mai     1106\n",
       "02. Apr      843\n",
       "03. Mrz      836\n",
       "04. Feb      684\n",
       "Mrz 54       670\n",
       "03. Jun      640\n",
       "01. Feb      599\n",
       "Feb 55       576\n",
       "02. Jul      552\n",
       "Mrz 48       535\n",
       "Mrz 81       533\n",
       "01. Mai      528\n",
       "03. Sep      514\n",
       "Mrz 75       514\n",
       "Mrz 15       466\n",
       "Feb 85       453\n",
       "02. Jan      423\n",
       "Feb 61       419\n",
       "Mrz 45       402\n",
       "01. Aug      399\n",
       "Jun 99       373\n",
       "Apr 65       370\n",
       "04. Aug      335\n",
       "Jan 41       332\n",
       "Jan 59       329\n",
       "05. Jan      294\n",
       "Feb 52       289\n",
       "Apr 38       287\n",
       "Feb 16       282\n",
       "           ...  \n",
       "Jun 71         1\n",
       "Mrz 88         1\n",
       "Okt 91         1\n",
       "Jun 29         1\n",
       "Jan 75         1\n",
       "Jul 28         1\n",
       "Mrz 44         1\n",
       "Okt 97         1\n",
       "Jun 22         1\n",
       "Apr 34         1\n",
       "Okt 49         1\n",
       "Jan 55         1\n",
       "Sep 79         1\n",
       "03. Nov        1\n",
       "Apr 82         1\n",
       "04. Dez        1\n",
       "Jun 95         1\n",
       "Aug 57         1\n",
       "Jan 57         1\n",
       "Jul 18         1\n",
       "Sep 24         1\n",
       "Mrz 76         1\n",
       "05. Dez        1\n",
       "Jan 27         1\n",
       "Mai 48         1\n",
       "Jul 78         1\n",
       "Apr 69         1\n",
       "Mai 54         1\n",
       "Jun 56         1\n",
       "Okt 27         1\n",
       "Name: fuel_consumption, Length: 465, dtype: int64"
      ]
     },
     "execution_count": 68,
     "metadata": {},
     "output_type": "execute_result"
    }
   ],
   "source": [
    "#Are there more frequent outliers than, somewhere else?\n",
    "raw_data[bad_fuel_consumption]['fuel_consumption'].value_counts()\n"
   ]
  },
  {
   "cell_type": "markdown",
   "metadata": {
    "ExecuteTime": {
     "end_time": "2018-12-30T15:05:48.563340Z",
     "start_time": "2018-12-30T15:05:48.548213Z"
    }
   },
   "source": [
    "Looking at the value we assume its the faulty interpretation of numeric values in a sheet calculator tool \n",
    "such as Microsoft excel, i.e., when the user has typed 4.35 the tool will interpret it as mm.yy, e.g. Apr 35\n",
    "see [this](https://support.office.com/de-de/article/verhindern-der-automatischen-umwandlung-von-zahlen-in-datumswerte-d34b75d1-0867-45c0-b744-82a182a2433b)\n",
    "\n",
    "Additionally, we find values such as `05. Dez`, here the program has interpreted the decimal as a date without a year present. That means `4.5` becomes `04. Mai`.\n",
    "\n",
    "We spend quite a while searching for libraries that already implemented this kind of conversion functionality such as [xlrd](https://github.com/python-excel/xlrd), but did not succeed finding the required transformation. Thus, we implement the back-conversion ourself."
   ]
  },
  {
   "cell_type": "code",
   "execution_count": 82,
   "metadata": {
    "ExecuteTime": {
     "end_time": "2018-12-30T19:11:17.693446Z",
     "start_time": "2018-12-30T19:11:17.641642Z"
    }
   },
   "outputs": [
    {
     "ename": "KeyError",
     "evalue": "'fuel_consumption'",
     "output_type": "error",
     "traceback": [
      "\u001b[0;31m---------------------------------------------------------------------------\u001b[0m",
      "\u001b[0;31mKeyError\u001b[0m                                  Traceback (most recent call last)",
      "\u001b[0;32m~/anaconda3/lib/python3.6/site-packages/pandas/core/indexes/base.py\u001b[0m in \u001b[0;36mget_loc\u001b[0;34m(self, key, method, tolerance)\u001b[0m\n\u001b[1;32m   3062\u001b[0m             \u001b[0;32mtry\u001b[0m\u001b[0;34m:\u001b[0m\u001b[0;34m\u001b[0m\u001b[0m\n\u001b[0;32m-> 3063\u001b[0;31m                 \u001b[0;32mreturn\u001b[0m \u001b[0mself\u001b[0m\u001b[0;34m.\u001b[0m\u001b[0m_engine\u001b[0m\u001b[0;34m.\u001b[0m\u001b[0mget_loc\u001b[0m\u001b[0;34m(\u001b[0m\u001b[0mkey\u001b[0m\u001b[0;34m)\u001b[0m\u001b[0;34m\u001b[0m\u001b[0m\n\u001b[0m\u001b[1;32m   3064\u001b[0m             \u001b[0;32mexcept\u001b[0m \u001b[0mKeyError\u001b[0m\u001b[0;34m:\u001b[0m\u001b[0;34m\u001b[0m\u001b[0m\n",
      "\u001b[0;32mpandas/_libs/index.pyx\u001b[0m in \u001b[0;36mpandas._libs.index.IndexEngine.get_loc\u001b[0;34m()\u001b[0m\n",
      "\u001b[0;32mpandas/_libs/index.pyx\u001b[0m in \u001b[0;36mpandas._libs.index.IndexEngine.get_loc\u001b[0;34m()\u001b[0m\n",
      "\u001b[0;32mpandas/_libs/hashtable_class_helper.pxi\u001b[0m in \u001b[0;36mpandas._libs.hashtable.PyObjectHashTable.get_item\u001b[0;34m()\u001b[0m\n",
      "\u001b[0;32mpandas/_libs/hashtable_class_helper.pxi\u001b[0m in \u001b[0;36mpandas._libs.hashtable.PyObjectHashTable.get_item\u001b[0;34m()\u001b[0m\n",
      "\u001b[0;31mKeyError\u001b[0m: 'fuel_consumption'",
      "\nDuring handling of the above exception, another exception occurred:\n",
      "\u001b[0;31mKeyError\u001b[0m                                  Traceback (most recent call last)",
      "\u001b[0;32m<ipython-input-82-4cf9a8eefb88>\u001b[0m in \u001b[0;36m<module>\u001b[0;34m()\u001b[0m\n\u001b[1;32m     33\u001b[0m     \u001b[0;32mreturn\u001b[0m \u001b[0mnp\u001b[0m\u001b[0;34m.\u001b[0m\u001b[0mNAN\u001b[0m\u001b[0;34m\u001b[0m\u001b[0m\n\u001b[1;32m     34\u001b[0m \u001b[0;34m\u001b[0m\u001b[0m\n\u001b[0;32m---> 35\u001b[0;31m \u001b[0mraw_data\u001b[0m\u001b[0;34m[\u001b[0m\u001b[0;34m'cleaned_fuel_consumption'\u001b[0m\u001b[0;34m]\u001b[0m \u001b[0;34m=\u001b[0m \u001b[0mraw_data\u001b[0m\u001b[0;34m[\u001b[0m\u001b[0;34m'fuel_consumption'\u001b[0m\u001b[0;34m]\u001b[0m\u001b[0;34m.\u001b[0m\u001b[0mapply\u001b[0m\u001b[0;34m(\u001b[0m\u001b[0mclean_fuel_cons\u001b[0m\u001b[0;34m)\u001b[0m\u001b[0;34m\u001b[0m\u001b[0m\n\u001b[0m",
      "\u001b[0;32m~/anaconda3/lib/python3.6/site-packages/pandas/core/frame.py\u001b[0m in \u001b[0;36m__getitem__\u001b[0;34m(self, key)\u001b[0m\n\u001b[1;32m   2683\u001b[0m             \u001b[0;32mreturn\u001b[0m \u001b[0mself\u001b[0m\u001b[0;34m.\u001b[0m\u001b[0m_getitem_multilevel\u001b[0m\u001b[0;34m(\u001b[0m\u001b[0mkey\u001b[0m\u001b[0;34m)\u001b[0m\u001b[0;34m\u001b[0m\u001b[0m\n\u001b[1;32m   2684\u001b[0m         \u001b[0;32melse\u001b[0m\u001b[0;34m:\u001b[0m\u001b[0;34m\u001b[0m\u001b[0m\n\u001b[0;32m-> 2685\u001b[0;31m             \u001b[0;32mreturn\u001b[0m \u001b[0mself\u001b[0m\u001b[0;34m.\u001b[0m\u001b[0m_getitem_column\u001b[0m\u001b[0;34m(\u001b[0m\u001b[0mkey\u001b[0m\u001b[0;34m)\u001b[0m\u001b[0;34m\u001b[0m\u001b[0m\n\u001b[0m\u001b[1;32m   2686\u001b[0m \u001b[0;34m\u001b[0m\u001b[0m\n\u001b[1;32m   2687\u001b[0m     \u001b[0;32mdef\u001b[0m \u001b[0m_getitem_column\u001b[0m\u001b[0;34m(\u001b[0m\u001b[0mself\u001b[0m\u001b[0;34m,\u001b[0m \u001b[0mkey\u001b[0m\u001b[0;34m)\u001b[0m\u001b[0;34m:\u001b[0m\u001b[0;34m\u001b[0m\u001b[0m\n",
      "\u001b[0;32m~/anaconda3/lib/python3.6/site-packages/pandas/core/frame.py\u001b[0m in \u001b[0;36m_getitem_column\u001b[0;34m(self, key)\u001b[0m\n\u001b[1;32m   2690\u001b[0m         \u001b[0;31m# get column\u001b[0m\u001b[0;34m\u001b[0m\u001b[0;34m\u001b[0m\u001b[0m\n\u001b[1;32m   2691\u001b[0m         \u001b[0;32mif\u001b[0m \u001b[0mself\u001b[0m\u001b[0;34m.\u001b[0m\u001b[0mcolumns\u001b[0m\u001b[0;34m.\u001b[0m\u001b[0mis_unique\u001b[0m\u001b[0;34m:\u001b[0m\u001b[0;34m\u001b[0m\u001b[0m\n\u001b[0;32m-> 2692\u001b[0;31m             \u001b[0;32mreturn\u001b[0m \u001b[0mself\u001b[0m\u001b[0;34m.\u001b[0m\u001b[0m_get_item_cache\u001b[0m\u001b[0;34m(\u001b[0m\u001b[0mkey\u001b[0m\u001b[0;34m)\u001b[0m\u001b[0;34m\u001b[0m\u001b[0m\n\u001b[0m\u001b[1;32m   2693\u001b[0m \u001b[0;34m\u001b[0m\u001b[0m\n\u001b[1;32m   2694\u001b[0m         \u001b[0;31m# duplicate columns & possible reduce dimensionality\u001b[0m\u001b[0;34m\u001b[0m\u001b[0;34m\u001b[0m\u001b[0m\n",
      "\u001b[0;32m~/anaconda3/lib/python3.6/site-packages/pandas/core/generic.py\u001b[0m in \u001b[0;36m_get_item_cache\u001b[0;34m(self, item)\u001b[0m\n\u001b[1;32m   2484\u001b[0m         \u001b[0mres\u001b[0m \u001b[0;34m=\u001b[0m \u001b[0mcache\u001b[0m\u001b[0;34m.\u001b[0m\u001b[0mget\u001b[0m\u001b[0;34m(\u001b[0m\u001b[0mitem\u001b[0m\u001b[0;34m)\u001b[0m\u001b[0;34m\u001b[0m\u001b[0m\n\u001b[1;32m   2485\u001b[0m         \u001b[0;32mif\u001b[0m \u001b[0mres\u001b[0m \u001b[0;32mis\u001b[0m \u001b[0;32mNone\u001b[0m\u001b[0;34m:\u001b[0m\u001b[0;34m\u001b[0m\u001b[0m\n\u001b[0;32m-> 2486\u001b[0;31m             \u001b[0mvalues\u001b[0m \u001b[0;34m=\u001b[0m \u001b[0mself\u001b[0m\u001b[0;34m.\u001b[0m\u001b[0m_data\u001b[0m\u001b[0;34m.\u001b[0m\u001b[0mget\u001b[0m\u001b[0;34m(\u001b[0m\u001b[0mitem\u001b[0m\u001b[0;34m)\u001b[0m\u001b[0;34m\u001b[0m\u001b[0m\n\u001b[0m\u001b[1;32m   2487\u001b[0m             \u001b[0mres\u001b[0m \u001b[0;34m=\u001b[0m \u001b[0mself\u001b[0m\u001b[0;34m.\u001b[0m\u001b[0m_box_item_values\u001b[0m\u001b[0;34m(\u001b[0m\u001b[0mitem\u001b[0m\u001b[0;34m,\u001b[0m \u001b[0mvalues\u001b[0m\u001b[0;34m)\u001b[0m\u001b[0;34m\u001b[0m\u001b[0m\n\u001b[1;32m   2488\u001b[0m             \u001b[0mcache\u001b[0m\u001b[0;34m[\u001b[0m\u001b[0mitem\u001b[0m\u001b[0;34m]\u001b[0m \u001b[0;34m=\u001b[0m \u001b[0mres\u001b[0m\u001b[0;34m\u001b[0m\u001b[0m\n",
      "\u001b[0;32m~/anaconda3/lib/python3.6/site-packages/pandas/core/internals.py\u001b[0m in \u001b[0;36mget\u001b[0;34m(self, item, fastpath)\u001b[0m\n\u001b[1;32m   4113\u001b[0m \u001b[0;34m\u001b[0m\u001b[0m\n\u001b[1;32m   4114\u001b[0m             \u001b[0;32mif\u001b[0m \u001b[0;32mnot\u001b[0m \u001b[0misna\u001b[0m\u001b[0;34m(\u001b[0m\u001b[0mitem\u001b[0m\u001b[0;34m)\u001b[0m\u001b[0;34m:\u001b[0m\u001b[0;34m\u001b[0m\u001b[0m\n\u001b[0;32m-> 4115\u001b[0;31m                 \u001b[0mloc\u001b[0m \u001b[0;34m=\u001b[0m \u001b[0mself\u001b[0m\u001b[0;34m.\u001b[0m\u001b[0mitems\u001b[0m\u001b[0;34m.\u001b[0m\u001b[0mget_loc\u001b[0m\u001b[0;34m(\u001b[0m\u001b[0mitem\u001b[0m\u001b[0;34m)\u001b[0m\u001b[0;34m\u001b[0m\u001b[0m\n\u001b[0m\u001b[1;32m   4116\u001b[0m             \u001b[0;32melse\u001b[0m\u001b[0;34m:\u001b[0m\u001b[0;34m\u001b[0m\u001b[0m\n\u001b[1;32m   4117\u001b[0m                 \u001b[0mindexer\u001b[0m \u001b[0;34m=\u001b[0m \u001b[0mnp\u001b[0m\u001b[0;34m.\u001b[0m\u001b[0marange\u001b[0m\u001b[0;34m(\u001b[0m\u001b[0mlen\u001b[0m\u001b[0;34m(\u001b[0m\u001b[0mself\u001b[0m\u001b[0;34m.\u001b[0m\u001b[0mitems\u001b[0m\u001b[0;34m)\u001b[0m\u001b[0;34m)\u001b[0m\u001b[0;34m[\u001b[0m\u001b[0misna\u001b[0m\u001b[0;34m(\u001b[0m\u001b[0mself\u001b[0m\u001b[0;34m.\u001b[0m\u001b[0mitems\u001b[0m\u001b[0;34m)\u001b[0m\u001b[0;34m]\u001b[0m\u001b[0;34m\u001b[0m\u001b[0m\n",
      "\u001b[0;32m~/anaconda3/lib/python3.6/site-packages/pandas/core/indexes/base.py\u001b[0m in \u001b[0;36mget_loc\u001b[0;34m(self, key, method, tolerance)\u001b[0m\n\u001b[1;32m   3063\u001b[0m                 \u001b[0;32mreturn\u001b[0m \u001b[0mself\u001b[0m\u001b[0;34m.\u001b[0m\u001b[0m_engine\u001b[0m\u001b[0;34m.\u001b[0m\u001b[0mget_loc\u001b[0m\u001b[0;34m(\u001b[0m\u001b[0mkey\u001b[0m\u001b[0;34m)\u001b[0m\u001b[0;34m\u001b[0m\u001b[0m\n\u001b[1;32m   3064\u001b[0m             \u001b[0;32mexcept\u001b[0m \u001b[0mKeyError\u001b[0m\u001b[0;34m:\u001b[0m\u001b[0;34m\u001b[0m\u001b[0m\n\u001b[0;32m-> 3065\u001b[0;31m                 \u001b[0;32mreturn\u001b[0m \u001b[0mself\u001b[0m\u001b[0;34m.\u001b[0m\u001b[0m_engine\u001b[0m\u001b[0;34m.\u001b[0m\u001b[0mget_loc\u001b[0m\u001b[0;34m(\u001b[0m\u001b[0mself\u001b[0m\u001b[0;34m.\u001b[0m\u001b[0m_maybe_cast_indexer\u001b[0m\u001b[0;34m(\u001b[0m\u001b[0mkey\u001b[0m\u001b[0;34m)\u001b[0m\u001b[0;34m)\u001b[0m\u001b[0;34m\u001b[0m\u001b[0m\n\u001b[0m\u001b[1;32m   3066\u001b[0m \u001b[0;34m\u001b[0m\u001b[0m\n\u001b[1;32m   3067\u001b[0m         \u001b[0mindexer\u001b[0m \u001b[0;34m=\u001b[0m \u001b[0mself\u001b[0m\u001b[0;34m.\u001b[0m\u001b[0mget_indexer\u001b[0m\u001b[0;34m(\u001b[0m\u001b[0;34m[\u001b[0m\u001b[0mkey\u001b[0m\u001b[0;34m]\u001b[0m\u001b[0;34m,\u001b[0m \u001b[0mmethod\u001b[0m\u001b[0;34m=\u001b[0m\u001b[0mmethod\u001b[0m\u001b[0;34m,\u001b[0m \u001b[0mtolerance\u001b[0m\u001b[0;34m=\u001b[0m\u001b[0mtolerance\u001b[0m\u001b[0;34m)\u001b[0m\u001b[0;34m\u001b[0m\u001b[0m\n",
      "\u001b[0;32mpandas/_libs/index.pyx\u001b[0m in \u001b[0;36mpandas._libs.index.IndexEngine.get_loc\u001b[0;34m()\u001b[0m\n",
      "\u001b[0;32mpandas/_libs/index.pyx\u001b[0m in \u001b[0;36mpandas._libs.index.IndexEngine.get_loc\u001b[0;34m()\u001b[0m\n",
      "\u001b[0;32mpandas/_libs/hashtable_class_helper.pxi\u001b[0m in \u001b[0;36mpandas._libs.hashtable.PyObjectHashTable.get_item\u001b[0;34m()\u001b[0m\n",
      "\u001b[0;32mpandas/_libs/hashtable_class_helper.pxi\u001b[0m in \u001b[0;36mpandas._libs.hashtable.PyObjectHashTable.get_item\u001b[0;34m()\u001b[0m\n",
      "\u001b[0;31mKeyError\u001b[0m: 'fuel_consumption'"
     ]
    }
   ],
   "source": [
    "from calendar import month_abbr, different_locale\n",
    "\n",
    "def get_month_name(month_no, locale):\n",
    "    with different_locale(locale):\n",
    "        return month_abbr[month_no]\n",
    "    \n",
    "german_month_abbr = [get_month_name(i,'de_DE') for i in range(1,13)]\n",
    "german_month_abbr[2] = 'Mrz' #Excel uses Mrz instead of Mär, overwrite it...\n",
    "\n",
    "def clean_fuel_cons(fuelcons_in):\n",
    "    #If it can be converted out of the box, return it...\n",
    "    converted = pd.to_numeric(fuelcons_in,errors='coerce')\n",
    "    if not np.isnan(converted):\n",
    "        return converted\n",
    "    \n",
    "    # Make sure subsequent array accesses do not fail...\n",
    "    if len(fuelcons_in) <= 3:\n",
    "        return np.NAN\n",
    "    \n",
    "    #abnormal case 1: Apr 35\n",
    "    if fuelcons_in[:3] in german_month_abbr:\n",
    "        before_decimal = german_month_abbr.index(fuelcons_in[:3]) + 1\n",
    "        after_decimal = fuelcons_in[4:]\n",
    "        return pd.to_numeric(str(before_decimal)+'.'+after_decimal)\n",
    "    \n",
    "    #abnormal case 2: 05. Jan\n",
    "    elif fuelcons_in[-3:] in german_month_abbr and '.' in fuelcons_in:\n",
    "        dot_index = fuelcons_in.index('.') + 1\n",
    "        reconstructed_str = fuelcons_in[:dot_index] + str(german_month_abbr.index(fuelcons_in[dot_index+1:]))\n",
    "        return pd.to_numeric(reconstructed_str)\n",
    "    \n",
    "    # Fall back to NAN\n",
    "    return np.NAN\n",
    "        \n",
    "raw_data['cleaned_fuel_consumption'] = raw_data['fuel_consumption'].apply(clean_fuel_cons)"
   ]
  },
  {
   "cell_type": "code",
   "execution_count": 70,
   "metadata": {
    "ExecuteTime": {
     "end_time": "2018-12-30T19:06:07.412630Z",
     "start_time": "2018-12-30T19:06:07.407551Z"
    }
   },
   "outputs": [
    {
     "data": {
      "text/plain": [
       "Series([], Name: fuel_consumption, dtype: object)"
      ]
     },
     "execution_count": 70,
     "metadata": {},
     "output_type": "execute_result"
    }
   ],
   "source": [
    "#Check if our conversion above left some edge-cases with NANs?\n",
    "raw_data[np.isnan(raw_data['cleaned_fuel_consumption'])]['fuel_consumption']"
   ]
  },
  {
   "cell_type": "code",
   "execution_count": 71,
   "metadata": {
    "ExecuteTime": {
     "end_time": "2018-12-30T19:06:08.476218Z",
     "start_time": "2018-12-30T19:06:08.048701Z"
    }
   },
   "outputs": [
    {
     "data": {
      "text/plain": [
       "<matplotlib.legend.Legend at 0x7f2e0c5a3898>"
      ]
     },
     "execution_count": 71,
     "metadata": {},
     "output_type": "execute_result"
    },
    {
     "data": {
      "image/png": "[encoded data removed]",
      "text/plain": [
       "<Figure size 432x288 with 1 Axes>"
      ]
     },
     "metadata": {},
     "output_type": "display_data"
    }
   ],
   "source": [
    "# Let's compare the distributions of both\n",
    "hist_kwargs = {\"cumulative\":True, \"density\":1, \"bins\":100, \"alpha\":0.7}\n",
    "\n",
    "ax = raw_data[~(bad_fuel_consumption)]['fuel_consumption'].astype(float).hist(label='non_reconstructed',**hist_kwargs)\n",
    "raw_data[(bad_fuel_consumption)]['cleaned_fuel_consumption'].astype(float).hist(label='reconstructed', ax=ax, **hist_kwargs)\n",
    "\n",
    "ax.set_ylabel('CDF')\n",
    "ax.set_xlabel('Fuel Consumption')\n",
    "ax.set_title(\"Distribtion of Fuel Consumptions (Reconstructed vs. Non-Reconstructed)\")\n",
    "ax.legend(loc='lower right')"
   ]
  },
  {
   "cell_type": "markdown",
   "metadata": {
    "ExecuteTime": {
     "end_time": "2018-12-30T16:07:39.912701Z",
     "start_time": "2018-12-30T16:07:39.901380Z"
    }
   },
   "source": [
    "We note that the distribtion of our reconstructed values is quite different, which however might be no suprise given the specific structure of the numbers that are eligble to be \"convertable\" into a date format."
   ]
  },
  {
   "cell_type": "code",
   "execution_count": 72,
   "metadata": {
    "ExecuteTime": {
     "end_time": "2018-12-30T19:06:14.881840Z",
     "start_time": "2018-12-30T19:06:14.861642Z"
    }
   },
   "outputs": [],
   "source": [
    "raw_data.drop(columns=['fuel_consumption'],inplace=True)"
   ]
  },
  {
   "cell_type": "markdown",
   "metadata": {},
   "source": [
    "## Cleaning `status`"
   ]
  },
  {
   "cell_type": "code",
   "execution_count": 73,
   "metadata": {
    "ExecuteTime": {
     "end_time": "2018-12-30T19:06:31.233068Z",
     "start_time": "2018-12-30T19:06:31.227779Z"
    }
   },
   "outputs": [
    {
     "data": {
      "text/plain": [
       "track_id                          category\n",
       "challenger                           int64\n",
       "opponent                             int64\n",
       "money                                int64\n",
       "winner                               int64\n",
       "status                              object\n",
       "forecast                            object\n",
       "weather                             object\n",
       "cleaned_race_created        datetime64[ns]\n",
       "cleaned_race_driven         datetime64[ns]\n",
       "cleaned_fuel_consumption           float64\n",
       "dtype: object"
      ]
     },
     "execution_count": 73,
     "metadata": {},
     "output_type": "execute_result"
    }
   ],
   "source": [
    "raw_data.dtypes"
   ]
  },
  {
   "cell_type": "code",
   "execution_count": 74,
   "metadata": {
    "ExecuteTime": {
     "end_time": "2018-12-30T19:06:31.443475Z",
     "start_time": "2018-12-30T19:06:31.420433Z"
    }
   },
   "outputs": [],
   "source": [
    "raw_data['status'] = raw_data.status.astype('category')"
   ]
  },
  {
   "cell_type": "code",
   "execution_count": 75,
   "metadata": {
    "ExecuteTime": {
     "end_time": "2018-12-30T19:06:32.259823Z",
     "start_time": "2018-12-30T19:06:32.251982Z"
    }
   },
   "outputs": [
    {
     "data": {
      "text/plain": [
       "finished    104893\n",
       "retired      43224\n",
       "declined     11392\n",
       "waiting       2894\n",
       "Name: status, dtype: int64"
      ]
     },
     "execution_count": 75,
     "metadata": {},
     "output_type": "execute_result"
    }
   ],
   "source": [
    "raw_data['status'].value_counts()"
   ]
  },
  {
   "cell_type": "markdown",
   "metadata": {},
   "source": [
    "## Cleaning `wheater`"
   ]
  },
  {
   "cell_type": "code",
   "execution_count": 76,
   "metadata": {
    "ExecuteTime": {
     "end_time": "2018-12-30T19:06:56.962769Z",
     "start_time": "2018-12-30T19:06:56.950103Z"
    }
   },
   "outputs": [],
   "source": [
    "raw_data['weather'] = raw_data.weather.astype('category')"
   ]
  },
  {
   "cell_type": "code",
   "execution_count": 77,
   "metadata": {
    "ExecuteTime": {
     "end_time": "2018-12-30T19:06:57.430757Z",
     "start_time": "2018-12-30T19:06:57.413111Z"
    }
   },
   "outputs": [
    {
     "data": {
      "text/plain": [
       "sunny       52620\n",
       "rainy       26228\n",
       "thundery    13076\n",
       "snowy       12969\n",
       "Name: weather, dtype: int64"
      ]
     },
     "execution_count": 77,
     "metadata": {},
     "output_type": "execute_result"
    }
   ],
   "source": [
    "raw_data['weather'].value_counts()"
   ]
  },
  {
   "cell_type": "code",
   "execution_count": 78,
   "metadata": {
    "ExecuteTime": {
     "end_time": "2018-12-30T19:07:08.545277Z",
     "start_time": "2018-12-30T19:07:08.531901Z"
    }
   },
   "outputs": [
    {
     "data": {
      "text/plain": [
       "True"
      ]
     },
     "execution_count": 78,
     "metadata": {},
     "output_type": "execute_result"
    }
   ],
   "source": [
    "#Double-Check if we have as much NaN records as we would expect for weather.\n",
    "# I.e. if the status is not finished the weather is unknown (NaN)\n",
    "\n",
    "pd.isna(raw_data['weather']).sum() == len(raw_data[raw_data['status'] != 'finished'])"
   ]
  },
  {
   "cell_type": "markdown",
   "metadata": {},
   "source": [
    "Not much to do here... "
   ]
  },
  {
   "cell_type": "markdown",
   "metadata": {},
   "source": [
    "## Cleaning `prediction`"
   ]
  },
  {
   "cell_type": "code",
   "execution_count": 79,
   "metadata": {
    "ExecuteTime": {
     "end_time": "2018-12-30T19:08:34.446090Z",
     "start_time": "2018-12-30T19:08:34.208629Z"
    }
   },
   "outputs": [],
   "source": [
    "#There is no need to reinvent the wheel, \n",
    "#lets use phpserialize to avoid writing a parser of the serialization format ourselves...\n",
    "#pip install phpserialize\n",
    "from phpserialize import loads\n",
    "import operator"
   ]
  },
  {
   "cell_type": "code",
   "execution_count": 83,
   "metadata": {
    "ExecuteTime": {
     "end_time": "2018-12-30T19:12:05.972703Z",
     "start_time": "2018-12-30T19:11:35.108738Z"
    }
   },
   "outputs": [],
   "source": [
    "possible_weather_keys = ['sunny','rainy','thundery','snowy']\n",
    "\n",
    "def apply_deserialization(row):\n",
    "    vals = loads(row['forecast'].encode('utf-8'),charset='utf-8',decode_strings=True)\n",
    "    for key in possible_weather_keys:\n",
    "        if key not in vals.keys():\n",
    "            vals[str(key)] = np.NaN\n",
    "    \n",
    "    forecast = max(vals.items(), key=operator.itemgetter(1))[0]\n",
    "    forecast_pct = max(vals.items(), key=operator.itemgetter(1))[1]\n",
    "    \n",
    "    return pd.Series([vals[k] for k in possible_weather_keys]+[forecast,forecast_pct])\n",
    "\n",
    "raw_data[['forecast_'+i for i in possible_weather_keys]+['forecasted_wheater','forecasted_confidence']] = raw_data.swifter.apply(apply_deserialization,axis=1,result_type='expand')"
   ]
  },
  {
   "cell_type": "code",
   "execution_count": 84,
   "metadata": {
    "ExecuteTime": {
     "end_time": "2018-12-30T19:12:06.186839Z",
     "start_time": "2018-12-30T19:12:05.975973Z"
    }
   },
   "outputs": [
    {
     "data": {
      "text/plain": [
       "<matplotlib.axes._subplots.AxesSubplot at 0x7f2dec59ba58>"
      ]
     },
     "execution_count": 84,
     "metadata": {},
     "output_type": "execute_result"
    },
    {
     "data": {
      "image/png": "[encoded data removed]",
      "text/plain": [
       "<Figure size 432x288 with 1 Axes>"
      ]
     },
     "metadata": {},
     "output_type": "display_data"
    }
   ],
   "source": [
    "#Plot a histogram of the forecast significance to check if we have outliers < 0 or > 100\n",
    "raw_data['forecasted_confidence'].hist()"
   ]
  },
  {
   "cell_type": "code",
   "execution_count": 85,
   "metadata": {
    "ExecuteTime": {
     "end_time": "2018-12-30T19:12:06.552829Z",
     "start_time": "2018-12-30T19:12:06.188689Z"
    }
   },
   "outputs": [
    {
     "data": {
      "image/png": "[encoded data removed]",
      "text/plain": [
       "<Figure size 432x288 with 4 Axes>"
      ]
     },
     "metadata": {},
     "output_type": "display_data"
    }
   ],
   "source": [
    "#How often is it rainy/sunny in general?\n",
    "ax = raw_data[['forecast_'+i for i in possible_weather_keys]].hist()"
   ]
  },
  {
   "cell_type": "code",
   "execution_count": 86,
   "metadata": {
    "ExecuteTime": {
     "end_time": "2018-12-30T19:14:03.120671Z",
     "start_time": "2018-12-30T19:12:06.554601Z"
    }
   },
   "outputs": [
    {
     "name": "stderr",
     "output_type": "stream",
     "text": [
      "Pandas Apply:  13%|█▎        | 21848/162403 [00:15<01:35, 1472.24it/s]"
     ]
    },
    {
     "data": {
      "text/html": [
       "<b>limit_output extension: Maximum message size of 10000 exceeded with 10058 characters</b>"
      ]
     },
     "metadata": {},
     "output_type": "display_data"
    }
   ],
   "source": [
    "#Sanity check the individidual confidences for the wheather\n",
    "helper_sum_confidences = raw_data.swifter.apply(lambda x: sum(x[['forecast_'+i for i in possible_weather_keys]]),axis=1)"
   ]
  },
  {
   "cell_type": "code",
   "execution_count": 89,
   "metadata": {
    "ExecuteTime": {
     "end_time": "2018-12-30T19:14:17.600114Z",
     "start_time": "2018-12-30T19:14:17.588386Z"
    }
   },
   "outputs": [
    {
     "data": {
      "text/plain": [
       "Series([], dtype: int64)"
      ]
     },
     "execution_count": 89,
     "metadata": {},
     "output_type": "execute_result"
    }
   ],
   "source": [
    "helper_sum_confidences[helper_sum_confidences != 100]"
   ]
  },
  {
   "cell_type": "markdown",
   "metadata": {},
   "source": [
    "We ensured the predicitons are always summing up to 100, while some wheater types are more common than others, this seems clean now."
   ]
  },
  {
   "cell_type": "code",
   "execution_count": 90,
   "metadata": {
    "ExecuteTime": {
     "end_time": "2018-12-30T19:14:24.694996Z",
     "start_time": "2018-12-30T19:14:24.683464Z"
    }
   },
   "outputs": [
    {
     "ename": "KeyError",
     "evalue": "\"labels ['forecast'] not contained in axis\"",
     "output_type": "error",
     "traceback": [
      "\u001b[0;31m---------------------------------------------------------------------------\u001b[0m",
      "\u001b[0;31mKeyError\u001b[0m                                  Traceback (most recent call last)",
      "\u001b[0;32m<ipython-input-90-3694db7860ab>\u001b[0m in \u001b[0;36m<module>\u001b[0;34m()\u001b[0m\n\u001b[0;32m----> 1\u001b[0;31m \u001b[0mraw_data\u001b[0m\u001b[0;34m.\u001b[0m\u001b[0mdrop\u001b[0m\u001b[0;34m(\u001b[0m\u001b[0mcolumns\u001b[0m\u001b[0;34m=\u001b[0m\u001b[0;34m[\u001b[0m\u001b[0;34m'forecast'\u001b[0m\u001b[0;34m]\u001b[0m\u001b[0;34m,\u001b[0m\u001b[0minplace\u001b[0m\u001b[0;34m=\u001b[0m\u001b[0;32mTrue\u001b[0m\u001b[0;34m)\u001b[0m\u001b[0;34m\u001b[0m\u001b[0m\n\u001b[0m",
      "\u001b[0;32m~/anaconda3/lib/python3.6/site-packages/pandas/core/frame.py\u001b[0m in \u001b[0;36mdrop\u001b[0;34m(self, labels, axis, index, columns, level, inplace, errors)\u001b[0m\n\u001b[1;32m   3692\u001b[0m                                            \u001b[0mindex\u001b[0m\u001b[0;34m=\u001b[0m\u001b[0mindex\u001b[0m\u001b[0;34m,\u001b[0m \u001b[0mcolumns\u001b[0m\u001b[0;34m=\u001b[0m\u001b[0mcolumns\u001b[0m\u001b[0;34m,\u001b[0m\u001b[0;34m\u001b[0m\u001b[0m\n\u001b[1;32m   3693\u001b[0m                                            \u001b[0mlevel\u001b[0m\u001b[0;34m=\u001b[0m\u001b[0mlevel\u001b[0m\u001b[0;34m,\u001b[0m \u001b[0minplace\u001b[0m\u001b[0;34m=\u001b[0m\u001b[0minplace\u001b[0m\u001b[0;34m,\u001b[0m\u001b[0;34m\u001b[0m\u001b[0m\n\u001b[0;32m-> 3694\u001b[0;31m                                            errors=errors)\n\u001b[0m\u001b[1;32m   3695\u001b[0m \u001b[0;34m\u001b[0m\u001b[0m\n\u001b[1;32m   3696\u001b[0m     @rewrite_axis_style_signature('mapper', [('copy', True),\n",
      "\u001b[0;32m~/anaconda3/lib/python3.6/site-packages/pandas/core/generic.py\u001b[0m in \u001b[0;36mdrop\u001b[0;34m(self, labels, axis, index, columns, level, inplace, errors)\u001b[0m\n\u001b[1;32m   3106\u001b[0m         \u001b[0;32mfor\u001b[0m \u001b[0maxis\u001b[0m\u001b[0;34m,\u001b[0m \u001b[0mlabels\u001b[0m \u001b[0;32min\u001b[0m \u001b[0maxes\u001b[0m\u001b[0;34m.\u001b[0m\u001b[0mitems\u001b[0m\u001b[0;34m(\u001b[0m\u001b[0;34m)\u001b[0m\u001b[0;34m:\u001b[0m\u001b[0;34m\u001b[0m\u001b[0m\n\u001b[1;32m   3107\u001b[0m             \u001b[0;32mif\u001b[0m \u001b[0mlabels\u001b[0m \u001b[0;32mis\u001b[0m \u001b[0;32mnot\u001b[0m \u001b[0;32mNone\u001b[0m\u001b[0;34m:\u001b[0m\u001b[0;34m\u001b[0m\u001b[0m\n\u001b[0;32m-> 3108\u001b[0;31m                 \u001b[0mobj\u001b[0m \u001b[0;34m=\u001b[0m \u001b[0mobj\u001b[0m\u001b[0;34m.\u001b[0m\u001b[0m_drop_axis\u001b[0m\u001b[0;34m(\u001b[0m\u001b[0mlabels\u001b[0m\u001b[0;34m,\u001b[0m \u001b[0maxis\u001b[0m\u001b[0;34m,\u001b[0m \u001b[0mlevel\u001b[0m\u001b[0;34m=\u001b[0m\u001b[0mlevel\u001b[0m\u001b[0;34m,\u001b[0m \u001b[0merrors\u001b[0m\u001b[0;34m=\u001b[0m\u001b[0merrors\u001b[0m\u001b[0;34m)\u001b[0m\u001b[0;34m\u001b[0m\u001b[0m\n\u001b[0m\u001b[1;32m   3109\u001b[0m \u001b[0;34m\u001b[0m\u001b[0m\n\u001b[1;32m   3110\u001b[0m         \u001b[0;32mif\u001b[0m \u001b[0minplace\u001b[0m\u001b[0;34m:\u001b[0m\u001b[0;34m\u001b[0m\u001b[0m\n",
      "\u001b[0;32m~/anaconda3/lib/python3.6/site-packages/pandas/core/generic.py\u001b[0m in \u001b[0;36m_drop_axis\u001b[0;34m(self, labels, axis, level, errors)\u001b[0m\n\u001b[1;32m   3138\u001b[0m                 \u001b[0mnew_axis\u001b[0m \u001b[0;34m=\u001b[0m \u001b[0maxis\u001b[0m\u001b[0;34m.\u001b[0m\u001b[0mdrop\u001b[0m\u001b[0;34m(\u001b[0m\u001b[0mlabels\u001b[0m\u001b[0;34m,\u001b[0m \u001b[0mlevel\u001b[0m\u001b[0;34m=\u001b[0m\u001b[0mlevel\u001b[0m\u001b[0;34m,\u001b[0m \u001b[0merrors\u001b[0m\u001b[0;34m=\u001b[0m\u001b[0merrors\u001b[0m\u001b[0;34m)\u001b[0m\u001b[0;34m\u001b[0m\u001b[0m\n\u001b[1;32m   3139\u001b[0m             \u001b[0;32melse\u001b[0m\u001b[0;34m:\u001b[0m\u001b[0;34m\u001b[0m\u001b[0m\n\u001b[0;32m-> 3140\u001b[0;31m                 \u001b[0mnew_axis\u001b[0m \u001b[0;34m=\u001b[0m \u001b[0maxis\u001b[0m\u001b[0;34m.\u001b[0m\u001b[0mdrop\u001b[0m\u001b[0;34m(\u001b[0m\u001b[0mlabels\u001b[0m\u001b[0;34m,\u001b[0m \u001b[0merrors\u001b[0m\u001b[0;34m=\u001b[0m\u001b[0merrors\u001b[0m\u001b[0;34m)\u001b[0m\u001b[0;34m\u001b[0m\u001b[0m\n\u001b[0m\u001b[1;32m   3141\u001b[0m             \u001b[0mdropped\u001b[0m \u001b[0;34m=\u001b[0m \u001b[0mself\u001b[0m\u001b[0;34m.\u001b[0m\u001b[0mreindex\u001b[0m\u001b[0;34m(\u001b[0m\u001b[0;34m**\u001b[0m\u001b[0;34m{\u001b[0m\u001b[0maxis_name\u001b[0m\u001b[0;34m:\u001b[0m \u001b[0mnew_axis\u001b[0m\u001b[0;34m}\u001b[0m\u001b[0;34m)\u001b[0m\u001b[0;34m\u001b[0m\u001b[0m\n\u001b[1;32m   3142\u001b[0m             \u001b[0;32mtry\u001b[0m\u001b[0;34m:\u001b[0m\u001b[0;34m\u001b[0m\u001b[0m\n",
      "\u001b[0;32m~/anaconda3/lib/python3.6/site-packages/pandas/core/indexes/base.py\u001b[0m in \u001b[0;36mdrop\u001b[0;34m(self, labels, errors)\u001b[0m\n\u001b[1;32m   4385\u001b[0m             \u001b[0;32mif\u001b[0m \u001b[0merrors\u001b[0m \u001b[0;34m!=\u001b[0m \u001b[0;34m'ignore'\u001b[0m\u001b[0;34m:\u001b[0m\u001b[0;34m\u001b[0m\u001b[0m\n\u001b[1;32m   4386\u001b[0m                 raise KeyError(\n\u001b[0;32m-> 4387\u001b[0;31m                     'labels %s not contained in axis' % labels[mask])\n\u001b[0m\u001b[1;32m   4388\u001b[0m             \u001b[0mindexer\u001b[0m \u001b[0;34m=\u001b[0m \u001b[0mindexer\u001b[0m\u001b[0;34m[\u001b[0m\u001b[0;34m~\u001b[0m\u001b[0mmask\u001b[0m\u001b[0;34m]\u001b[0m\u001b[0;34m\u001b[0m\u001b[0m\n\u001b[1;32m   4389\u001b[0m         \u001b[0;32mreturn\u001b[0m \u001b[0mself\u001b[0m\u001b[0;34m.\u001b[0m\u001b[0mdelete\u001b[0m\u001b[0;34m(\u001b[0m\u001b[0mindexer\u001b[0m\u001b[0;34m)\u001b[0m\u001b[0;34m\u001b[0m\u001b[0m\n",
      "\u001b[0;31mKeyError\u001b[0m: \"labels ['forecast'] not contained in axis\""
     ]
    }
   ],
   "source": [
    "raw_data.drop(columns=['forecast'],inplace=True)"
   ]
  },
  {
   "cell_type": "code",
   "execution_count": 91,
   "metadata": {
    "ExecuteTime": {
     "end_time": "2018-12-30T19:14:25.398487Z",
     "start_time": "2018-12-30T19:14:25.388310Z"
    }
   },
   "outputs": [],
   "source": [
    "raw_data['forecasted_wheater'] = raw_data.forecasted_wheater.astype('category')"
   ]
  },
  {
   "cell_type": "markdown",
   "metadata": {},
   "source": [
    "## Cleaning `opponent` and `challenger`"
   ]
  },
  {
   "cell_type": "code",
   "execution_count": 92,
   "metadata": {
    "ExecuteTime": {
     "end_time": "2018-12-30T19:14:42.027922Z",
     "start_time": "2018-12-30T19:14:42.014301Z"
    }
   },
   "outputs": [
    {
     "data": {
      "text/plain": [
       "track_id                          category\n",
       "challenger                           int64\n",
       "opponent                             int64\n",
       "money                                int64\n",
       "winner                               int64\n",
       "status                            category\n",
       "weather                           category\n",
       "cleaned_race_created        datetime64[ns]\n",
       "cleaned_race_driven         datetime64[ns]\n",
       "cleaned_fuel_consumption           float64\n",
       "forecast_sunny                       int64\n",
       "forecast_rainy                       int64\n",
       "forecast_thundery                    int64\n",
       "forecast_snowy                       int64\n",
       "forecasted_wheater                category\n",
       "forecasted_confidence                int64\n",
       "dtype: object"
      ]
     },
     "execution_count": 92,
     "metadata": {},
     "output_type": "execute_result"
    }
   ],
   "source": [
    "raw_data.dtypes"
   ]
  },
  {
   "cell_type": "code",
   "execution_count": 93,
   "metadata": {
    "ExecuteTime": {
     "end_time": "2018-12-30T19:14:42.484795Z",
     "start_time": "2018-12-30T19:14:42.130436Z"
    }
   },
   "outputs": [
    {
     "data": {
      "text/plain": [
       "<matplotlib.axes._subplots.AxesSubplot at 0x7f2dec580588>"
      ]
     },
     "execution_count": 93,
     "metadata": {},
     "output_type": "execute_result"
    },
    {
     "data": {
      "image/png": "[encoded data removed]",
      "text/plain": [
       "<Figure size 432x288 with 1 Axes>"
      ]
     },
     "metadata": {},
     "output_type": "display_data"
    }
   ],
   "source": [
    "raw_data['opponent'].hist(bins=100)"
   ]
  },
  {
   "cell_type": "code",
   "execution_count": 94,
   "metadata": {
    "ExecuteTime": {
     "end_time": "2018-12-30T19:14:42.495242Z",
     "start_time": "2018-12-30T19:14:42.487823Z"
    }
   },
   "outputs": [
    {
     "data": {
      "text/plain": [
       "id\n",
       "72036     123456789\n",
       "80216     123456789\n",
       "47470      12345678\n",
       "53795      12345678\n",
       "82454         43000\n",
       "82455         43000\n",
       "82456         43000\n",
       "82496         43000\n",
       "166601        14656\n",
       "166602        14656\n",
       "Name: opponent, dtype: int64"
      ]
     },
     "execution_count": 94,
     "metadata": {},
     "output_type": "execute_result"
    }
   ],
   "source": [
    "raw_data['opponent'].nlargest(10)"
   ]
  },
  {
   "cell_type": "markdown",
   "metadata": {
    "ExecuteTime": {
     "end_time": "2018-12-30T19:15:40.475949Z",
     "start_time": "2018-12-30T19:15:40.471047Z"
    }
   },
   "source": [
    "So we seem to have 3 outliers `123456789`, `12345678` which are obviously bogus. ID `43000` also exceeds the range of regularly observed driver IDs. Thus we remove them all."
   ]
  },
  {
   "cell_type": "code",
   "execution_count": 100,
   "metadata": {
    "ExecuteTime": {
     "end_time": "2018-12-30T19:15:59.151466Z",
     "start_time": "2018-12-30T19:15:58.915266Z"
    }
   },
   "outputs": [
    {
     "data": {
      "text/plain": [
       "<matplotlib.axes._subplots.AxesSubplot at 0x7f2df4c06e10>"
      ]
     },
     "execution_count": 100,
     "metadata": {},
     "output_type": "execute_result"
    },
    {
     "data": {
      "image/png": "[encoded data removed]",
      "text/plain": [
       "<Figure size 432x288 with 1 Axes>"
      ]
     },
     "metadata": {},
     "output_type": "display_data"
    }
   ],
   "source": [
    "raw_data['challenger'].hist(bins=100)"
   ]
  },
  {
   "cell_type": "markdown",
   "metadata": {},
   "source": [
    "Note how the distribution of challenger looks much different than opponent."
   ]
  },
  {
   "cell_type": "code",
   "execution_count": 101,
   "metadata": {
    "ExecuteTime": {
     "end_time": "2018-12-30T19:16:39.908127Z",
     "start_time": "2018-12-30T19:16:39.893315Z"
    }
   },
   "outputs": [
    {
     "data": {
      "text/html": [
       "<div>\n",
       "<style scoped>\n",
       "    .dataframe tbody tr th:only-of-type {\n",
       "        vertical-align: middle;\n",
       "    }\n",
       "\n",
       "    .dataframe tbody tr th {\n",
       "        vertical-align: top;\n",
       "    }\n",
       "\n",
       "    .dataframe thead th {\n",
       "        text-align: right;\n",
       "    }\n",
       "</style>\n",
       "<table border=\"1\" class=\"dataframe\">\n",
       "  <thead>\n",
       "    <tr style=\"text-align: right;\">\n",
       "      <th></th>\n",
       "      <th>track_id</th>\n",
       "      <th>challenger</th>\n",
       "      <th>opponent</th>\n",
       "      <th>money</th>\n",
       "      <th>winner</th>\n",
       "      <th>status</th>\n",
       "      <th>weather</th>\n",
       "      <th>cleaned_race_created</th>\n",
       "      <th>cleaned_race_driven</th>\n",
       "      <th>cleaned_fuel_consumption</th>\n",
       "      <th>forecast_sunny</th>\n",
       "      <th>forecast_rainy</th>\n",
       "      <th>forecast_thundery</th>\n",
       "      <th>forecast_snowy</th>\n",
       "      <th>forecasted_wheater</th>\n",
       "      <th>forecasted_confidence</th>\n",
       "    </tr>\n",
       "    <tr>\n",
       "      <th>id</th>\n",
       "      <th></th>\n",
       "      <th></th>\n",
       "      <th></th>\n",
       "      <th></th>\n",
       "      <th></th>\n",
       "      <th></th>\n",
       "      <th></th>\n",
       "      <th></th>\n",
       "      <th></th>\n",
       "      <th></th>\n",
       "      <th></th>\n",
       "      <th></th>\n",
       "      <th></th>\n",
       "      <th></th>\n",
       "      <th></th>\n",
       "      <th></th>\n",
       "    </tr>\n",
       "  </thead>\n",
       "  <tbody>\n",
       "  </tbody>\n",
       "</table>\n",
       "</div>"
      ],
      "text/plain": [
       "Empty DataFrame\n",
       "Columns: [track_id, challenger, opponent, money, winner, status, weather, cleaned_race_created, cleaned_race_driven, cleaned_fuel_consumption, forecast_sunny, forecast_rainy, forecast_thundery, forecast_snowy, forecasted_wheater, forecasted_confidence]\n",
       "Index: []"
      ]
     },
     "execution_count": 101,
     "metadata": {},
     "output_type": "execute_result"
    }
   ],
   "source": [
    "invalid_opponents = raw_data[(raw_data['opponent'] == 123456789) | (raw_data['opponent'] == 12345678) | (raw_data['opponent'] == 43000)]\n",
    "invalid_opponents"
   ]
  },
  {
   "cell_type": "code",
   "execution_count": 102,
   "metadata": {
    "ExecuteTime": {
     "end_time": "2018-12-30T19:16:48.672150Z",
     "start_time": "2018-12-30T19:16:48.658062Z"
    }
   },
   "outputs": [],
   "source": [
    "raw_data.drop(invalid_opponents.index,inplace=True)"
   ]
  },
  {
   "cell_type": "code",
   "execution_count": 107,
   "metadata": {
    "ExecuteTime": {
     "end_time": "2018-12-30T19:17:24.932465Z",
     "start_time": "2018-12-30T19:17:24.904940Z"
    }
   },
   "outputs": [
    {
     "data": {
      "text/plain": [
       "14656"
      ]
     },
     "execution_count": 107,
     "metadata": {},
     "output_type": "execute_result"
    }
   ],
   "source": [
    "max(raw_data['opponent'])"
   ]
  },
  {
   "cell_type": "markdown",
   "metadata": {},
   "source": [
    "This seems reasonable maximum."
   ]
  },
  {
   "cell_type": "code",
   "execution_count": 116,
   "metadata": {
    "ExecuteTime": {
     "end_time": "2018-12-30T19:20:33.325655Z",
     "start_time": "2018-12-30T19:20:32.920798Z"
    }
   },
   "outputs": [
    {
     "data": {
      "image/png": "[encoded data removed]",
      "text/plain": [
       "<Figure size 432x288 with 2 Axes>"
      ]
     },
     "metadata": {},
     "output_type": "display_data"
    }
   ],
   "source": [
    "ax=raw_data[['opponent','challenger']].hist(bins=100,sharey=True)"
   ]
  },
  {
   "cell_type": "markdown",
   "metadata": {
    "ExecuteTime": {
     "end_time": "2018-12-30T17:33:40.900693Z",
     "start_time": "2018-12-30T17:33:39.460419Z"
    }
   },
   "source": [
    "However, we still have a lot of records where the opponent or the challenger is simply `0`."
   ]
  },
  {
   "cell_type": "code",
   "execution_count": 117,
   "metadata": {
    "ExecuteTime": {
     "end_time": "2018-12-30T19:20:34.262374Z",
     "start_time": "2018-12-30T19:20:34.252498Z"
    }
   },
   "outputs": [
    {
     "name": "stdout",
     "output_type": "stream",
     "text": [
      "9.35% affected \n"
     ]
    }
   ],
   "source": [
    "challenger_or_opponent_zero = (raw_data['opponent'] == 0) | (raw_data['challenger'] == 0)\n",
    "#How many percent are affected?\n",
    "print(\"%.2f%% affected \" % (100*len(raw_data[challenger_or_opponent_zero])/len(raw_data)))"
   ]
  },
  {
   "cell_type": "markdown",
   "metadata": {},
   "source": [
    "Let's -again- look at the status of those races."
   ]
  },
  {
   "cell_type": "code",
   "execution_count": 118,
   "metadata": {
    "ExecuteTime": {
     "end_time": "2018-12-30T19:20:35.079162Z",
     "start_time": "2018-12-30T19:20:35.054372Z"
    }
   },
   "outputs": [
    {
     "data": {
      "text/plain": [
       "retired     15189\n",
       "waiting         1\n",
       "finished        0\n",
       "declined        0\n",
       "Name: status, dtype: int64"
      ]
     },
     "execution_count": 118,
     "metadata": {},
     "output_type": "execute_result"
    }
   ],
   "source": [
    "raw_data[challenger_or_opponent_zero]['status'].value_counts()"
   ]
  },
  {
   "cell_type": "code",
   "execution_count": 119,
   "metadata": {
    "ExecuteTime": {
     "end_time": "2018-12-30T19:20:37.357055Z",
     "start_time": "2018-12-30T19:20:36.951483Z"
    }
   },
   "outputs": [
    {
     "data": {
      "image/png": "[encoded data removed]",
      "text/plain": [
       "<Figure size 432x288 with 2 Axes>"
      ]
     },
     "metadata": {},
     "output_type": "display_data"
    }
   ],
   "source": [
    "#It seems to only affect `retired` and `waiting`, races....\n",
    "#Check what the distribution of other race types looks like for challenger and opponent.\n",
    "ax = raw_data[~(challenger_or_opponent_zero)][['opponent','challenger']].hist(bins=100,sharey=True)\n"
   ]
  },
  {
   "cell_type": "code",
   "execution_count": 120,
   "metadata": {
    "ExecuteTime": {
     "end_time": "2018-12-30T19:20:47.723474Z",
     "start_time": "2018-12-30T19:20:47.710505Z"
    }
   },
   "outputs": [
    {
     "data": {
      "text/plain": [
       "48       7435\n",
       "2866     4470\n",
       "46       4099\n",
       "32       3631\n",
       "5        2685\n",
       "55       2380\n",
       "148      2065\n",
       "458      1718\n",
       "1601     1374\n",
       "2239     1365\n",
       "9        1243\n",
       "3        1186\n",
       "4506     1137\n",
       "9170     1058\n",
       "47       1053\n",
       "11313     966\n",
       "543       940\n",
       "740       931\n",
       "4678      886\n",
       "4710      876\n",
       "Name: challenger, dtype: int64"
      ]
     },
     "execution_count": 120,
     "metadata": {},
     "output_type": "execute_result"
    }
   ],
   "source": [
    "#something is still up with challenger...\n",
    "raw_data[~(challenger_or_opponent_zero)]['challenger'].value_counts()[:20]"
   ]
  },
  {
   "cell_type": "markdown",
   "metadata": {
    "ExecuteTime": {
     "end_time": "2018-12-30T17:52:46.898195Z",
     "start_time": "2018-12-30T17:52:46.885619Z"
    }
   },
   "source": [
    "What we can see is a typical power law distribution. Some heavy hitters are challengers with their `id < 100` (e.g. 48, 46, 32, 5, 55, 9, 3)"
   ]
  },
  {
   "cell_type": "code",
   "execution_count": 121,
   "metadata": {
    "ExecuteTime": {
     "end_time": "2018-12-30T19:20:48.715212Z",
     "start_time": "2018-12-30T19:20:48.701042Z"
    }
   },
   "outputs": [
    {
     "data": {
      "text/plain": [
       "48      3694\n",
       "2866    2566\n",
       "32      1887\n",
       "55      1576\n",
       "458     1154\n",
       "148     1079\n",
       "46      1057\n",
       "3000    1046\n",
       "4710     978\n",
       "3317     960\n",
       "9        922\n",
       "740      895\n",
       "47       871\n",
       "81       857\n",
       "130      843\n",
       "4506     726\n",
       "2239     726\n",
       "5        673\n",
       "117      669\n",
       "63       636\n",
       "Name: opponent, dtype: int64"
      ]
     },
     "execution_count": 121,
     "metadata": {},
     "output_type": "execute_result"
    }
   ],
   "source": [
    "raw_data[~(challenger_or_opponent_zero)]['opponent'].value_counts()[:20]"
   ]
  },
  {
   "cell_type": "markdown",
   "metadata": {
    "ExecuteTime": {
     "end_time": "2018-12-30T17:55:36.459887Z",
     "start_time": "2018-12-30T17:55:36.456019Z"
    }
   },
   "source": [
    "Interestingly, it seems heavy-hitter challengers are also opponents frequently, however, they are challenging far more often than they are being challenged.\n",
    "\n",
    "For now lets only note that fact,as this does not seems to be a cleaning problem right now so we only note this, but do not modify the data."
   ]
  },
  {
   "cell_type": "markdown",
   "metadata": {},
   "source": [
    "## Cleaning `money` (not what you think...)"
   ]
  },
  {
   "cell_type": "code",
   "execution_count": 122,
   "metadata": {
    "ExecuteTime": {
     "end_time": "2018-12-30T19:21:23.991622Z",
     "start_time": "2018-12-30T19:21:23.325701Z"
    }
   },
   "outputs": [
    {
     "data": {
      "image/png": "[encoded data removed]",
      "text/plain": [
       "<Figure size 432x288 with 1 Axes>"
      ]
     },
     "metadata": {},
     "output_type": "display_data"
    }
   ],
   "source": [
    "ax = raw_data['money'].hist(bins=100)\n",
    "ax.set_yscale('log')"
   ]
  },
  {
   "cell_type": "code",
   "execution_count": 123,
   "metadata": {
    "ExecuteTime": {
     "end_time": "2018-12-30T19:21:25.574811Z",
     "start_time": "2018-12-30T19:21:25.567851Z"
    }
   },
   "outputs": [
    {
     "data": {
      "text/plain": [
       "30      84737\n",
       "50      33294\n",
       "100     10102\n",
       "1000     2940\n",
       "500      2507\n",
       "300      2231\n",
       "200      1909\n",
       "2000     1615\n",
       "5000     1392\n",
       "40       1242\n",
       "Name: money, dtype: int64"
      ]
     },
     "execution_count": 123,
     "metadata": {},
     "output_type": "execute_result"
    }
   ],
   "source": [
    "raw_data['money'].value_counts()[:10]"
   ]
  },
  {
   "cell_type": "code",
   "execution_count": 124,
   "metadata": {
    "ExecuteTime": {
     "end_time": "2018-12-30T19:21:26.283024Z",
     "start_time": "2018-12-30T19:21:26.244182Z"
    }
   },
   "outputs": [
    {
     "name": "stdout",
     "output_type": "stream",
     "text": [
      "52.18% pay 30 EUR \n",
      "73.98% pay <= 50 EUR \n"
     ]
    }
   ],
   "source": [
    "#How many Percent only pay 30 eurs?\n",
    "print(\"%.2f%% pay 30 EUR \" % (100*len(raw_data[raw_data['money'] == 30])/len(raw_data)))\n",
    "print(\"%.2f%% pay <= 50 EUR \" % (100*len(raw_data[raw_data['money'] <= 50])/len(raw_data)))"
   ]
  },
  {
   "cell_type": "markdown",
   "metadata": {
    "ExecuteTime": {
     "end_time": "2018-12-30T18:06:31.344780Z",
     "start_time": "2018-12-30T18:06:31.340205Z"
    }
   },
   "source": [
    "*Note:* This indicates that there is some minimum fee of 30 EUR.\n",
    "Again, cleaning wise this seems fine."
   ]
  },
  {
   "cell_type": "code",
   "execution_count": 125,
   "metadata": {
    "ExecuteTime": {
     "end_time": "2018-12-30T19:21:52.068721Z",
     "start_time": "2018-12-30T19:21:52.063474Z"
    }
   },
   "outputs": [],
   "source": [
    "## Checking / Cleaning `winner`"
   ]
  },
  {
   "cell_type": "code",
   "execution_count": 130,
   "metadata": {
    "ExecuteTime": {
     "end_time": "2018-12-30T19:22:40.958735Z",
     "start_time": "2018-12-30T19:22:40.937185Z"
    }
   },
   "outputs": [
    {
     "data": {
      "text/plain": [
       "0"
      ]
     },
     "execution_count": 130,
     "metadata": {},
     "output_type": "execute_result"
    }
   ],
   "source": [
    "#Do a sanity check for winner, is the winner populated on finished races, and is the winner a always a challenger or opponent?\n",
    "finished_races = (raw_data['status'] == 'finished')\n",
    "winner_is_opponent = (raw_data['opponent'] == raw_data['winner'])\n",
    "winner_is_challenger = (raw_data['challenger'] == raw_data['winner'])\n",
    "invalid_winners = raw_data[finished_races & ~( winner_is_opponent | winner_is_challenger)]\n",
    "#Do we have any bogus records?\n",
    "len(invalid_winners)"
   ]
  },
  {
   "cell_type": "code",
   "execution_count": 131,
   "metadata": {
    "ExecuteTime": {
     "end_time": "2018-12-30T19:22:55.586765Z",
     "start_time": "2018-12-30T19:22:55.575921Z"
    }
   },
   "outputs": [
    {
     "data": {
      "text/plain": [
       "0    57502\n",
       "Name: winner, dtype: int64"
      ]
     },
     "execution_count": 131,
     "metadata": {},
     "output_type": "execute_result"
    }
   ],
   "source": [
    "#Conversely, is the winner always 0 for non-finished races?\n",
    "raw_data[~finished_races]['winner'].value_counts()"
   ]
  },
  {
   "cell_type": "markdown",
   "metadata": {},
   "source": [
    "## Conclusion"
   ]
  },
  {
   "cell_type": "code",
   "execution_count": 134,
   "metadata": {
    "ExecuteTime": {
     "end_time": "2018-12-30T19:23:27.239789Z",
     "start_time": "2018-12-30T19:23:27.227728Z"
    }
   },
   "outputs": [
    {
     "data": {
      "text/plain": [
       "track_id                          category\n",
       "challenger                           int64\n",
       "opponent                             int64\n",
       "money                                int64\n",
       "winner                               int64\n",
       "status                            category\n",
       "weather                           category\n",
       "cleaned_race_created        datetime64[ns]\n",
       "cleaned_race_driven         datetime64[ns]\n",
       "cleaned_fuel_consumption           float64\n",
       "forecast_sunny                       int64\n",
       "forecast_rainy                       int64\n",
       "forecast_thundery                    int64\n",
       "forecast_snowy                       int64\n",
       "forecasted_wheater                category\n",
       "forecasted_confidence                int64\n",
       "dtype: object"
      ]
     },
     "execution_count": 134,
     "metadata": {},
     "output_type": "execute_result"
    }
   ],
   "source": [
    "#Our final datatypes...\n",
    "raw_data.dtypes"
   ]
  },
  {
   "cell_type": "markdown",
   "metadata": {
    "ExecuteTime": {
     "end_time": "2018-12-30T19:23:08.236104Z",
     "start_time": "2018-12-30T19:23:08.232753Z"
    }
   },
   "source": [
    "This concludes our cleaning section. We did not had to throw away only a couple of outliers."
   ]
  },
  {
   "cell_type": "code",
   "execution_count": 144,
   "metadata": {
    "ExecuteTime": {
     "end_time": "2018-12-30T19:26:57.218346Z",
     "start_time": "2018-12-30T19:26:57.207862Z"
    }
   },
   "outputs": [
    {
     "name": "stdout",
     "output_type": "stream",
     "text": [
      "We had to discard 2.53% (4214) records\n"
     ]
    }
   ],
   "source": [
    "#How many records did we throw away?\n",
    "\n",
    "print(\"We had to discard %.2f%% (%d) records\" % (100*(1-len(raw_data)/orig_len),orig_len-len(raw_data)))"
   ]
  },
  {
   "cell_type": "code",
   "execution_count": 143,
   "metadata": {
    "ExecuteTime": {
     "end_time": "2018-12-30T19:26:55.135675Z",
     "start_time": "2018-12-30T19:26:55.085970Z"
    }
   },
   "outputs": [],
   "source": [
    "#Let's export this to a feather file for later use in different notebooks!\n",
    "export = raw_data.reset_index()\n",
    "export.to_feather('../data/races.cleaned.feather')"
   ]
  }
 ],
 "metadata": {
  "kernelspec": {
   "display_name": "Python 3",
   "language": "python",
   "name": "python3"
  },
  "language_info": {
   "codemirror_mode": {
    "name": "ipython",
    "version": 3
   },
   "file_extension": ".py",
   "mimetype": "text/x-python",
   "name": "python",
   "nbconvert_exporter": "python",
   "pygments_lexer": "ipython3",
   "version": "3.6.5"
  }
 },
 "nbformat": 4,
 "nbformat_minor": 2
}
